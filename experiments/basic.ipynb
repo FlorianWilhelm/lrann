{
 "cells": [
  {
   "cell_type": "code",
   "execution_count": 57,
   "metadata": {},
   "outputs": [
    {
     "name": "stdout",
     "output_type": "stream",
     "text": [
      "The autoreload extension is already loaded. To reload it, use:\n",
      "  %reload_ext autoreload\n"
     ]
    }
   ],
   "source": [
    "import sys\n",
    "import logging\n",
    "\n",
    "import numpy as np\n",
    "import scipy as sp\n",
    "import sklearn\n",
    "import statsmodels.api as sm\n",
    "from statsmodels.formula.api import ols\n",
    "\n",
    "%load_ext autoreload\n",
    "%autoreload 2\n",
    "\n",
    "import matplotlib as mpl\n",
    "import matplotlib.pyplot as plt\n",
    "%matplotlib inline\n",
    "%config InlineBackend.figure_format = 'retina'\n",
    "\n",
    "import seaborn as sns\n",
    "sns.set_context(\"poster\")\n",
    "sns.set(rc={'figure.figsize': (16, 9.)})\n",
    "sns.set_style(\"whitegrid\")\n",
    "\n",
    "import pandas as pd\n",
    "pd.set_option(\"display.max_rows\", 120)\n",
    "pd.set_option(\"display.max_columns\", 120)\n",
    "\n",
    "logging.basicConfig(level=logging.INFO, stream=sys.stdout)"
   ]
  },
  {
   "cell_type": "code",
   "execution_count": 58,
   "metadata": {},
   "outputs": [],
   "source": [
    "import torch\n",
    "import torch.nn.functional as F\n",
    "\n",
    "from lrann.datasets import DataLoader, random_train_test_split\n",
    "from lrann.estimators import ImplicitEst\n",
    "from lrann.models import BilinearNet, DeepNet, ResNet\n",
    "from lrann.evaluations import mrr_score, precision_recall_score\n",
    "from lrann.utils import is_cuda_available"
   ]
  },
  {
   "cell_type": "code",
   "execution_count": 46,
   "metadata": {},
   "outputs": [],
   "source": [
    "data = DataLoader().load_movielens('100k')"
   ]
  },
  {
   "cell_type": "code",
   "execution_count": 47,
   "metadata": {},
   "outputs": [],
   "source": [
    "train, test = random_train_test_split(data)"
   ]
  },
  {
   "cell_type": "markdown",
   "metadata": {},
   "source": [
    "## Estimator using a low-rank approximation model"
   ]
  },
  {
   "cell_type": "code",
   "execution_count": 54,
   "metadata": {},
   "outputs": [
    {
     "name": "stdout",
     "output_type": "stream",
     "text": [
      "Epoch 0: loss 0.2725904422993705\n",
      "Epoch 1: loss 0.14597288496709662\n",
      "Epoch 2: loss 0.12268067814303464\n",
      "Epoch 3: loss 0.10430571385519062\n",
      "Epoch 4: loss 0.09362372836295851\n",
      "Epoch 5: loss 0.08439306648545522\n",
      "Epoch 6: loss 0.07775582379046031\n",
      "Epoch 7: loss 0.07610465778944137\n",
      "Epoch 8: loss 0.07058730716455473\n",
      "Epoch 9: loss 0.06850218000377509\n",
      "Epoch 10: loss 0.06607056039248234\n",
      "Epoch 11: loss 0.06586962781710737\n",
      "Epoch 12: loss 0.06394558241398984\n",
      "Epoch 13: loss 0.0629675068682954\n",
      "Epoch 14: loss 0.06010595720007472\n",
      "Epoch 15: loss 0.06028020984187675\n",
      "Epoch 16: loss 0.059038570049630625\n",
      "Epoch 17: loss 0.05847483069271369\n",
      "Epoch 18: loss 0.0569427542199518\n",
      "Epoch 19: loss 0.05626072020383578\n"
     ]
    }
   ],
   "source": [
    "lra_model = BilinearNet(data.n_users, data.n_items, embedding_dim=32, sparse=False)\n",
    "lra_est = ImplicitEst(model=lra_model, \n",
    "                      n_iter=20, \n",
    "                      use_cuda=is_cuda_available())\n",
    "lra_est.fit(train, verbose=True)"
   ]
  },
  {
   "cell_type": "code",
   "execution_count": 55,
   "metadata": {},
   "outputs": [
    {
     "data": {
      "text/plain": [
       "(0.08226600985221674, 0.055270432630070136)"
      ]
     },
     "execution_count": 55,
     "metadata": {},
     "output_type": "execute_result"
    }
   ],
   "source": [
    "prec, recall = precision_recall_score(lra_est, test)\n",
    "prec.mean(), recall.mean()"
   ]
  },
  {
   "cell_type": "code",
   "execution_count": 56,
   "metadata": {},
   "outputs": [
    {
     "data": {
      "text/plain": [
       "(0.03597764718689598, 0.024920279787758952)"
      ]
     },
     "execution_count": 56,
     "metadata": {},
     "output_type": "execute_result"
    }
   ],
   "source": [
    "mrr_score(lra_est, train).mean(), mrr_score(lra_est, test).mean()"
   ]
  },
  {
   "cell_type": "markdown",
   "metadata": {},
   "source": [
    "## Estimator using a deep neural model"
   ]
  },
  {
   "cell_type": "code",
   "execution_count": 51,
   "metadata": {},
   "outputs": [
    {
     "name": "stdout",
     "output_type": "stream",
     "text": [
      "Epoch 0: loss 0.23586470484969732\n",
      "Epoch 1: loss 0.1894077275379335\n",
      "Epoch 2: loss 0.18241314966638947\n",
      "Epoch 3: loss 0.17853012318514797\n",
      "Epoch 4: loss 0.1750466843886912\n",
      "Epoch 5: loss 0.17116528122483646\n",
      "Epoch 6: loss 0.17341163586795613\n",
      "Epoch 7: loss 0.17019281759503904\n",
      "Epoch 8: loss 0.1687646459923871\n",
      "Epoch 9: loss 0.16890244743242128\n",
      "Epoch 10: loss 0.16608317680479795\n",
      "Epoch 11: loss 0.1675762428581809\n",
      "Epoch 12: loss 0.1658183973630899\n",
      "Epoch 13: loss 0.16381410580193373\n",
      "Epoch 14: loss 0.16470830679447546\n",
      "Epoch 15: loss 0.1637588477503101\n",
      "Epoch 16: loss 0.163464301557391\n",
      "Epoch 17: loss 0.16170240344742398\n",
      "Epoch 18: loss 0.1607877084079144\n",
      "Epoch 19: loss 0.1616262861316442\n"
     ]
    }
   ],
   "source": [
    "nn_model = DeepNet(data.n_users, data.n_items, embedding_dim=8, sparse=False, activation=torch.tanh)\n",
    "nn_est = ImplicitEst(model=nn_model, \n",
    "                     n_iter=20, \n",
    "                     use_cuda=is_cuda_available())\n",
    "nn_est.fit(train, verbose=True)"
   ]
  },
  {
   "cell_type": "code",
   "execution_count": 52,
   "metadata": {},
   "outputs": [
    {
     "data": {
      "text/plain": [
       "(0.07536945812807883, 0.0450172280291891)"
      ]
     },
     "execution_count": 52,
     "metadata": {},
     "output_type": "execute_result"
    }
   ],
   "source": [
    "prec, recall = precision_recall_score(nn_est, test)\n",
    "prec.mean(), recall.mean()"
   ]
  },
  {
   "cell_type": "code",
   "execution_count": 53,
   "metadata": {},
   "outputs": [
    {
     "data": {
      "text/plain": [
       "(0.019041247839855807, 0.018543117584467632)"
      ]
     },
     "execution_count": 53,
     "metadata": {},
     "output_type": "execute_result"
    }
   ],
   "source": [
    "mrr_score(nn_est, train).mean(), mrr_score(nn_est, test).mean()"
   ]
  },
  {
   "cell_type": "markdown",
   "metadata": {},
   "source": [
    "## Estimator using a deep residual model"
   ]
  },
  {
   "cell_type": "code",
   "execution_count": null,
   "metadata": {},
   "outputs": [
    {
     "name": "stdout",
     "output_type": "stream",
     "text": [
      "Epoch 0: loss 0.26957950572204287\n",
      "Epoch 1: loss 0.1518804550572356\n",
      "Epoch 2: loss 0.1221214220896009\n",
      "Epoch 3: loss 0.10432872754151205\n",
      "Epoch 4: loss 0.09417445225886138\n",
      "Epoch 5: loss 0.08533422598429319\n",
      "Epoch 6: loss 0.08263045440762999\n",
      "Epoch 7: loss 0.07659786217587686\n",
      "Epoch 8: loss 0.07287330987749595\n",
      "Epoch 9: loss 0.06978465359593061\n",
      "Epoch 10: loss 0.06837380008414837\n",
      "Epoch 11: loss 0.0662923973325268\n",
      "Epoch 12: loss 0.0653633287814099\n",
      "Epoch 13: loss 0.06402774985655316\n",
      "Epoch 14: loss 0.06219431265255823\n",
      "Epoch 15: loss 0.060135974839518644\n",
      "Epoch 16: loss 0.06133887371367136\n",
      "Epoch 17: loss 0.06003553657489939\n",
      "Epoch 18: loss 0.059792405610576436\n"
     ]
    }
   ],
   "source": [
    "res_model = ResNet(data.n_users, data.n_items, embedding_dim=32, sparse=False, activation=torch.sigmoid)\n",
    "res_est = ImplicitEst(model=res_model, \n",
    "                     n_iter=20, \n",
    "                     use_cuda=is_cuda_available())\n",
    "res_est.fit(train, verbose=True)"
   ]
  },
  {
   "cell_type": "code",
   "execution_count": 68,
   "metadata": {},
   "outputs": [
    {
     "data": {
      "text/plain": [
       "(0.08275862068965517, 0.047558592438274205)"
      ]
     },
     "execution_count": 68,
     "metadata": {},
     "output_type": "execute_result"
    }
   ],
   "source": [
    "prec, recall = precision_recall_score(res_est, test)\n",
    "prec.mean(), recall.mean()"
   ]
  },
  {
   "cell_type": "code",
   "execution_count": 69,
   "metadata": {},
   "outputs": [
    {
     "data": {
      "text/plain": [
       "(0.028651481479257234, 0.024004779585839523)"
      ]
     },
     "execution_count": 69,
     "metadata": {},
     "output_type": "execute_result"
    }
   ],
   "source": [
    "mrr_score(res_est, train).mean(), mrr_score(res_est, test).mean()"
   ]
  },
  {
   "cell_type": "code",
   "execution_count": null,
   "metadata": {},
   "outputs": [],
   "source": []
  }
 ],
 "metadata": {
  "kernelspec": {
   "display_name": "Python 3",
   "language": "python",
   "name": "python3"
  },
  "language_info": {
   "codemirror_mode": {
    "name": "ipython",
    "version": 3
   },
   "file_extension": ".py",
   "mimetype": "text/x-python",
   "name": "python",
   "nbconvert_exporter": "python",
   "pygments_lexer": "ipython3",
   "version": "3.6.7"
  }
 },
 "nbformat": 4,
 "nbformat_minor": 2
}
