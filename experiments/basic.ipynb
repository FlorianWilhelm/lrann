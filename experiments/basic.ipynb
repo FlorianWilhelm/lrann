{
 "cells": [
  {
   "cell_type": "code",
   "execution_count": 1,
   "metadata": {},
   "outputs": [],
   "source": [
    "import sys\n",
    "import logging\n",
    "\n",
    "import numpy as np\n",
    "import scipy as sp\n",
    "import sklearn\n",
    "import statsmodels.api as sm\n",
    "from statsmodels.formula.api import ols\n",
    "\n",
    "%load_ext autoreload\n",
    "%autoreload 2\n",
    "\n",
    "import matplotlib as mpl\n",
    "import matplotlib.pyplot as plt\n",
    "%matplotlib inline\n",
    "%config InlineBackend.figure_format = 'retina'\n",
    "\n",
    "import seaborn as sns\n",
    "sns.set_context(\"poster\")\n",
    "sns.set(rc={'figure.figsize': (16, 9.)})\n",
    "sns.set_style(\"whitegrid\")\n",
    "\n",
    "import pandas as pd\n",
    "pd.set_option(\"display.max_rows\", 120)\n",
    "pd.set_option(\"display.max_columns\", 120)\n",
    "\n",
    "logging.basicConfig(level=logging.INFO, stream=sys.stdout)"
   ]
  },
  {
   "cell_type": "code",
   "execution_count": 2,
   "metadata": {},
   "outputs": [],
   "source": [
    "from lrann.datasets import Loader, random_train_test_split\n",
    "from lrann.estimators import ImplicitEst\n",
    "from lrann.models import BilinearNet, DeepNet\n",
    "from lrann.evaluation import mrr_score, precision_recall_score\n",
    "from lrann.utils import is_cuda_available"
   ]
  },
  {
   "cell_type": "code",
   "execution_count": 3,
   "metadata": {},
   "outputs": [],
   "source": [
    "data = Loader().load_movielens('100k-old')"
   ]
  },
  {
   "cell_type": "code",
   "execution_count": 4,
   "metadata": {},
   "outputs": [],
   "source": [
    "train, test = random_train_test_split(data)"
   ]
  },
  {
   "cell_type": "markdown",
   "metadata": {},
   "source": [
    "## Estimator using a low-rank approximation model"
   ]
  },
  {
   "cell_type": "code",
   "execution_count": 5,
   "metadata": {},
   "outputs": [
    {
     "name": "stdout",
     "output_type": "stream",
     "text": [
      "Epoch 0: loss 0.27675932797193525\n",
      "Epoch 1: loss 0.17167725524902344\n",
      "Epoch 2: loss 0.15408831919431687\n",
      "Epoch 3: loss 0.14492063223719598\n",
      "Epoch 4: loss 0.13740948897600175\n"
     ]
    }
   ],
   "source": [
    "lra_model = BilinearNet(data.n_users, data.n_items, embedding_dim=32, sparse=False)\n",
    "lra_est = ImplicitEst(model=lra_model, \n",
    "                      n_iter=5, \n",
    "                      use_cuda=is_cuda_available())\n",
    "lra_est.fit(train, verbose=True)"
   ]
  },
  {
   "cell_type": "code",
   "execution_count": 6,
   "metadata": {},
   "outputs": [
    {
     "data": {
      "text/plain": [
       "(0.11367974549310712, 0.08312115728535541)"
      ]
     },
     "execution_count": 6,
     "metadata": {},
     "output_type": "execute_result"
    }
   ],
   "source": [
    "prec, recall = precision_recall_score(lra_est, test)\n",
    "prec.mean(), recall.mean()"
   ]
  },
  {
   "cell_type": "code",
   "execution_count": 7,
   "metadata": {},
   "outputs": [
    {
     "data": {
      "text/plain": [
       "(0.05072063447153412, 0.03976879794850387)"
      ]
     },
     "execution_count": 7,
     "metadata": {},
     "output_type": "execute_result"
    }
   ],
   "source": [
    "mrr_score(lra_est, train).mean(), mrr_score(lra_est, test).mean()"
   ]
  },
  {
   "cell_type": "markdown",
   "metadata": {},
   "source": [
    "## Estimator using a deep neural model"
   ]
  },
  {
   "cell_type": "code",
   "execution_count": 8,
   "metadata": {},
   "outputs": [
    {
     "name": "stdout",
     "output_type": "stream",
     "text": [
      "Epoch 0: loss 0.23424265429973604\n",
      "Epoch 1: loss 0.21347526460886002\n",
      "Epoch 2: loss 0.2105945165872574\n",
      "Epoch 3: loss 0.20520013264417647\n",
      "Epoch 4: loss 0.20541262471675872\n"
     ]
    }
   ],
   "source": [
    "nn_model = DeepNet(data.n_users, data.n_items, embedding_dim=32, sparse=False)\n",
    "nn_est = ImplicitEst(model=nn_model, \n",
    "                     n_iter=5, \n",
    "                     use_cuda=is_cuda_available())\n",
    "nn_est.fit(train, verbose=True)"
   ]
  },
  {
   "cell_type": "code",
   "execution_count": 9,
   "metadata": {},
   "outputs": [
    {
     "data": {
      "text/plain": [
       "(0.08833510074231177, 0.05972723965633153)"
      ]
     },
     "execution_count": 9,
     "metadata": {},
     "output_type": "execute_result"
    }
   ],
   "source": [
    "prec, recall = precision_recall_score(nn_est, test)\n",
    "prec.mean(), recall.mean()"
   ]
  },
  {
   "cell_type": "code",
   "execution_count": 10,
   "metadata": {},
   "outputs": [
    {
     "data": {
      "text/plain": [
       "(0.05072063447153412, 0.02856018978872365)"
      ]
     },
     "execution_count": 10,
     "metadata": {},
     "output_type": "execute_result"
    }
   ],
   "source": [
    "mrr_score(lra_est, train).mean(), mrr_score(nn_est, test).mean()"
   ]
  },
  {
   "cell_type": "code",
   "execution_count": null,
   "metadata": {},
   "outputs": [],
   "source": []
  }
 ],
 "metadata": {
  "kernelspec": {
   "display_name": "Python 3",
   "language": "python",
   "name": "python3"
  },
  "language_info": {
   "codemirror_mode": {
    "name": "ipython",
    "version": 3
   },
   "file_extension": ".py",
   "mimetype": "text/x-python",
   "name": "python",
   "nbconvert_exporter": "python",
   "pygments_lexer": "ipython3",
   "version": "3.6.7"
  }
 },
 "nbformat": 4,
 "nbformat_minor": 2
}
