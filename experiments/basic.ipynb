{
 "cells": [
  {
   "cell_type": "code",
   "execution_count": 1,
   "metadata": {},
   "outputs": [],
   "source": [
    "import sys\n",
    "import logging\n",
    "\n",
    "import numpy as np\n",
    "import scipy as sp\n",
    "import sklearn\n",
    "import statsmodels.api as sm\n",
    "from statsmodels.formula.api import ols\n",
    "\n",
    "%load_ext autoreload\n",
    "%autoreload 2\n",
    "\n",
    "import matplotlib as mpl\n",
    "import matplotlib.pyplot as plt\n",
    "%matplotlib inline\n",
    "%config InlineBackend.figure_format = 'retina'\n",
    "\n",
    "import seaborn as sns\n",
    "sns.set_context(\"poster\")\n",
    "sns.set(rc={'figure.figsize': (16, 9.)})\n",
    "sns.set_style(\"whitegrid\")\n",
    "\n",
    "import pandas as pd\n",
    "pd.set_option(\"display.max_rows\", 120)\n",
    "pd.set_option(\"display.max_columns\", 120)\n",
    "\n",
    "logging.basicConfig(level=logging.INFO, stream=sys.stdout)"
   ]
  },
  {
   "cell_type": "code",
   "execution_count": 131,
   "metadata": {},
   "outputs": [],
   "source": [
    "from lrann.datasets import DataLoader, random_train_test_split\n",
    "from lrann.estimators import ImplicitEst\n",
    "from lrann.models import BilinearNet, DeepNet\n",
    "from lrann.evaluation import mrr_score, precision_recall_score\n",
    "from lrann.utils import is_cuda_available"
   ]
  },
  {
   "cell_type": "code",
   "execution_count": 132,
   "metadata": {},
   "outputs": [],
   "source": [
    "data = DataLoader().load_movielens('100k-old')"
   ]
  },
  {
   "cell_type": "code",
   "execution_count": 133,
   "metadata": {},
   "outputs": [],
   "source": [
    "train, test = random_train_test_split(data)"
   ]
  },
  {
   "cell_type": "markdown",
   "metadata": {},
   "source": [
    "## Estimator using a low-rank approximation model"
   ]
  },
  {
   "cell_type": "code",
   "execution_count": 47,
   "metadata": {},
   "outputs": [
    {
     "name": "stdout",
     "output_type": "stream",
     "text": [
      "Epoch 0: loss 0.27673777327537535\n",
      "Epoch 1: loss 0.1704614986896515\n",
      "Epoch 2: loss 0.15219719598293305\n",
      "Epoch 3: loss 0.1433867601752281\n",
      "Epoch 4: loss 0.13588194658756256\n"
     ]
    }
   ],
   "source": [
    "lra_model = BilinearNet(data.n_users, data.n_items, embedding_dim=32, sparse=False)\n",
    "lra_est = ImplicitEst(model=lra_model, \n",
    "                      n_iter=5, \n",
    "                      use_cuda=is_cuda_available())\n",
    "lra_est.fit(train, verbose=True)"
   ]
  },
  {
   "cell_type": "code",
   "execution_count": 48,
   "metadata": {},
   "outputs": [
    {
     "data": {
      "text/plain": [
       "(0.10922587486744434, 0.08660114791713977)"
      ]
     },
     "execution_count": 48,
     "metadata": {},
     "output_type": "execute_result"
    }
   ],
   "source": [
    "prec, recall = precision_recall_score(lra_est, test)\n",
    "prec.mean(), recall.mean()"
   ]
  },
  {
   "cell_type": "code",
   "execution_count": 49,
   "metadata": {},
   "outputs": [
    {
     "data": {
      "text/plain": [
       "(0.05083605810500996, 0.041096013580100975)"
      ]
     },
     "execution_count": 49,
     "metadata": {},
     "output_type": "execute_result"
    }
   ],
   "source": [
    "mrr_score(lra_est, train).mean(), mrr_score(lra_est, test).mean()"
   ]
  },
  {
   "cell_type": "markdown",
   "metadata": {},
   "source": [
    "## Estimator using a deep neural model"
   ]
  },
  {
   "cell_type": "code",
   "execution_count": 45,
   "metadata": {},
   "outputs": [
    {
     "name": "stdout",
     "output_type": "stream",
     "text": [
      "Epoch 0: loss 0.23424124660491943\n",
      "Epoch 1: loss 0.212724027299881\n",
      "Epoch 2: loss 0.20724857063293456\n",
      "Epoch 3: loss 0.20499628328084946\n",
      "Epoch 4: loss 0.2040336129784584\n"
     ]
    }
   ],
   "source": [
    "nn_model = DeepNet(data.n_users, data.n_items, embedding_dim=32, sparse=False)\n",
    "nn_est = ImplicitEst(model=nn_model, \n",
    "                     n_iter=5, \n",
    "                     use_cuda=is_cuda_available())\n",
    "nn_est.fit(train, verbose=True)"
   ]
  },
  {
   "cell_type": "code",
   "execution_count": 9,
   "metadata": {},
   "outputs": [
    {
     "data": {
      "text/plain": [
       "(0.08833510074231177, 0.05972723965633153)"
      ]
     },
     "execution_count": 9,
     "metadata": {},
     "output_type": "execute_result"
    }
   ],
   "source": [
    "prec, recall = precision_recall_score(nn_est, test)\n",
    "prec.mean(), recall.mean()"
   ]
  },
  {
   "cell_type": "code",
   "execution_count": 10,
   "metadata": {},
   "outputs": [
    {
     "data": {
      "text/plain": [
       "(0.05072063447153412, 0.02856018978872365)"
      ]
     },
     "execution_count": 10,
     "metadata": {},
     "output_type": "execute_result"
    }
   ],
   "source": [
    "mrr_score(lra_est, train).mean(), mrr_score(nn_est, test).mean()"
   ]
  }
 ],
 "metadata": {
  "kernelspec": {
   "display_name": "Python 3",
   "language": "python",
   "name": "python3"
  },
  "language_info": {
   "codemirror_mode": {
    "name": "ipython",
    "version": 3
   },
   "file_extension": ".py",
   "mimetype": "text/x-python",
   "name": "python",
   "nbconvert_exporter": "python",
   "pygments_lexer": "ipython3",
   "version": "3.6.7"
  }
 },
 "nbformat": 4,
 "nbformat_minor": 2
}
