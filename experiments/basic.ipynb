{
 "cells": [
  {
   "cell_type": "code",
   "execution_count": 12,
   "metadata": {},
   "outputs": [
    {
     "name": "stdout",
     "output_type": "stream",
     "text": [
      "The autoreload extension is already loaded. To reload it, use:\n",
      "  %reload_ext autoreload\n"
     ]
    }
   ],
   "source": [
    "import sys\n",
    "import logging\n",
    "\n",
    "import numpy as np\n",
    "import scipy as sp\n",
    "import sklearn\n",
    "import statsmodels.api as sm\n",
    "from statsmodels.formula.api import ols\n",
    "\n",
    "%load_ext autoreload\n",
    "%autoreload 2\n",
    "\n",
    "import matplotlib as mpl\n",
    "import matplotlib.pyplot as plt\n",
    "%matplotlib inline\n",
    "%config InlineBackend.figure_format = 'retina'\n",
    "\n",
    "import seaborn as sns\n",
    "sns.set_context(\"poster\")\n",
    "sns.set(rc={'figure.figsize': (16, 9.)})\n",
    "sns.set_style(\"whitegrid\")\n",
    "\n",
    "import pandas as pd\n",
    "pd.set_option(\"display.max_rows\", 120)\n",
    "pd.set_option(\"display.max_columns\", 120)\n",
    "\n",
    "logging.basicConfig(level=logging.INFO, stream=sys.stdout)"
   ]
  },
  {
   "cell_type": "code",
   "execution_count": 13,
   "metadata": {},
   "outputs": [],
   "source": [
    "from lrann.datasets import DataLoader, random_train_test_split\n",
    "from lrann.estimators import ImplicitEst\n",
    "from lrann.models import BilinearNet, DeepNet\n",
    "from lrann.evaluations import mrr_score, precision_recall_score\n",
    "from lrann.utils import is_cuda_available"
   ]
  },
  {
   "cell_type": "code",
   "execution_count": 14,
   "metadata": {},
   "outputs": [],
   "source": [
    "data = DataLoader().load_movielens('100k-old')"
   ]
  },
  {
   "cell_type": "code",
   "execution_count": 15,
   "metadata": {},
   "outputs": [],
   "source": [
    "train, test = random_train_test_split(data)"
   ]
  },
  {
   "cell_type": "markdown",
   "metadata": {},
   "source": [
    "## Estimator using a low-rank approximation model"
   ]
  },
  {
   "cell_type": "code",
   "execution_count": 16,
   "metadata": {},
   "outputs": [
    {
     "name": "stdout",
     "output_type": "stream",
     "text": [
      "Epoch 0: loss 0.2793229014158249\n",
      "Epoch 1: loss 0.16784010788202286\n",
      "Epoch 2: loss 0.15143999789953233\n",
      "Epoch 3: loss 0.14298499312400817\n",
      "Epoch 4: loss 0.1384033023416996\n"
     ]
    }
   ],
   "source": [
    "lra_model = BilinearNet(data.n_users, data.n_items, embedding_dim=32, sparse=False)\n",
    "lra_est = ImplicitEst(model=lra_model, \n",
    "                      n_iter=5, \n",
    "                      use_cuda=is_cuda_available())\n",
    "lra_est.fit(train, verbose=True)"
   ]
  },
  {
   "cell_type": "code",
   "execution_count": 17,
   "metadata": {},
   "outputs": [
    {
     "data": {
      "text/plain": [
       "(0.11686108165429482, 0.09241441314180279)"
      ]
     },
     "execution_count": 17,
     "metadata": {},
     "output_type": "execute_result"
    }
   ],
   "source": [
    "prec, recall = precision_recall_score(lra_est, test)\n",
    "prec.mean(), recall.mean()"
   ]
  },
  {
   "cell_type": "code",
   "execution_count": 18,
   "metadata": {},
   "outputs": [
    {
     "data": {
      "text/plain": [
       "(0.04999118996946312, 0.04313170839048392)"
      ]
     },
     "execution_count": 18,
     "metadata": {},
     "output_type": "execute_result"
    }
   ],
   "source": [
    "mrr_score(lra_est, train).mean(), mrr_score(lra_est, test).mean()"
   ]
  },
  {
   "cell_type": "markdown",
   "metadata": {},
   "source": [
    "## Estimator using a deep neural model"
   ]
  },
  {
   "cell_type": "code",
   "execution_count": 19,
   "metadata": {},
   "outputs": [
    {
     "name": "stdout",
     "output_type": "stream",
     "text": [
      "Epoch 0: loss 0.23397547523975373\n",
      "Epoch 1: loss 0.21132075523138047\n",
      "Epoch 2: loss 0.20922331668138505\n",
      "Epoch 3: loss 0.20933768365383149\n",
      "Epoch 4: loss 0.20521306723356247\n"
     ]
    }
   ],
   "source": [
    "nn_model = DeepNet(data.n_users, data.n_items, embedding_dim=32, sparse=False)\n",
    "nn_est = ImplicitEst(model=nn_model, \n",
    "                     n_iter=5, \n",
    "                     use_cuda=is_cuda_available())\n",
    "nn_est.fit(train, verbose=True)"
   ]
  },
  {
   "cell_type": "code",
   "execution_count": 20,
   "metadata": {},
   "outputs": [
    {
     "data": {
      "text/plain": [
       "(0.09056203605514317, 0.06958518641751826)"
      ]
     },
     "execution_count": 20,
     "metadata": {},
     "output_type": "execute_result"
    }
   ],
   "source": [
    "prec, recall = precision_recall_score(nn_est, test)\n",
    "prec.mean(), recall.mean()"
   ]
  },
  {
   "cell_type": "code",
   "execution_count": 21,
   "metadata": {},
   "outputs": [
    {
     "data": {
      "text/plain": [
       "(0.04999118996946312, 0.030031285683716713)"
      ]
     },
     "execution_count": 21,
     "metadata": {},
     "output_type": "execute_result"
    }
   ],
   "source": [
    "mrr_score(lra_est, train).mean(), mrr_score(nn_est, test).mean()"
   ]
  },
  {
   "cell_type": "code",
   "execution_count": null,
   "metadata": {},
   "outputs": [],
   "source": []
  }
 ],
 "metadata": {
  "kernelspec": {
   "display_name": "Python 3",
   "language": "python",
   "name": "python3"
  },
  "language_info": {
   "codemirror_mode": {
    "name": "ipython",
    "version": 3
   },
   "file_extension": ".py",
   "mimetype": "text/x-python",
   "name": "python",
   "nbconvert_exporter": "python",
   "pygments_lexer": "ipython3",
   "version": "3.6.7"
  }
 },
 "nbformat": 4,
 "nbformat_minor": 2
}
