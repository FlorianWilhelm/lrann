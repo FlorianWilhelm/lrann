{
 "cells": [
  {
   "cell_type": "code",
   "execution_count": 91,
   "metadata": {},
   "outputs": [
    {
     "name": "stdout",
     "output_type": "stream",
     "text": [
      "The autoreload extension is already loaded. To reload it, use:\n",
      "  %reload_ext autoreload\n"
     ]
    }
   ],
   "source": [
    "import sys\n",
    "import logging\n",
    "\n",
    "import numpy as np\n",
    "import scipy as sp\n",
    "import sklearn\n",
    "import statsmodels.api as sm\n",
    "from statsmodels.formula.api import ols\n",
    "\n",
    "%load_ext autoreload\n",
    "%autoreload 2\n",
    "\n",
    "import matplotlib as mpl\n",
    "import matplotlib.pyplot as plt\n",
    "%matplotlib inline\n",
    "%config InlineBackend.figure_format = 'retina'\n",
    "\n",
    "import seaborn as sns\n",
    "sns.set_context(\"poster\")\n",
    "sns.set(rc={'figure.figsize': (16, 9.)})\n",
    "sns.set_style(\"whitegrid\")\n",
    "\n",
    "import pandas as pd\n",
    "pd.set_option(\"display.max_rows\", 120)\n",
    "pd.set_option(\"display.max_columns\", 120)\n",
    "\n",
    "logging.basicConfig(level=logging.INFO, stream=sys.stdout)"
   ]
  },
  {
   "cell_type": "code",
   "execution_count": 138,
   "metadata": {},
   "outputs": [],
   "source": [
    "import torch\n",
    "import torch.nn.functional as F\n",
    "\n",
    "from lrann.datasets import DataLoader, random_train_test_split\n",
    "from lrann.estimators import ImplicitEst\n",
    "from lrann.models import BilinearNet, DeepNet, ResNet, NaluNet, ResNetPlus, MoTBilinearNet\n",
    "from lrann.evaluations import mrr_score, precision_recall_score\n",
    "from lrann.utils import is_cuda_available"
   ]
  },
  {
   "cell_type": "code",
   "execution_count": 84,
   "metadata": {},
   "outputs": [],
   "source": [
    "data = DataLoader().load_movielens('100k')"
   ]
  },
  {
   "cell_type": "code",
   "execution_count": 85,
   "metadata": {},
   "outputs": [],
   "source": [
    "train, test = random_train_test_split(data)"
   ]
  },
  {
   "cell_type": "markdown",
   "metadata": {},
   "source": [
    "## Estimator using a low-rank approximation model"
   ]
  },
  {
   "cell_type": "code",
   "execution_count": 120,
   "metadata": {},
   "outputs": [
    {
     "name": "stdout",
     "output_type": "stream",
     "text": [
      "Epoch 0: loss 0.29848028162107604\n",
      "Epoch 1: loss 0.152989525294814\n",
      "Epoch 2: loss 0.12731886036375245\n",
      "Epoch 3: loss 0.10986339597831438\n",
      "Epoch 4: loss 0.09942853574164318\n",
      "Epoch 5: loss 0.09429839696800085\n",
      "Epoch 6: loss 0.08877062617923634\n",
      "Epoch 7: loss 0.08440941384744058\n",
      "Epoch 8: loss 0.08011859068543711\n",
      "Epoch 9: loss 0.07848491075466403\n",
      "Epoch 10: loss 0.07671918743031717\n",
      "Epoch 11: loss 0.07268891464653181\n",
      "Epoch 12: loss 0.07409993878517022\n",
      "Epoch 13: loss 0.07247878540242342\n",
      "Epoch 14: loss 0.0705476693850359\n",
      "Epoch 15: loss 0.07078450364127117\n",
      "Epoch 16: loss 0.0679047131916824\n",
      "Epoch 17: loss 0.06707057180311148\n",
      "Epoch 18: loss 0.066386374091455\n",
      "Epoch 19: loss 0.06566404829926423\n"
     ]
    }
   ],
   "source": [
    "lra_model = BilinearNet(data.n_users, data.n_items, embedding_dim=16, sparse=False)\n",
    "lra_est = ImplicitEst(model=lra_model, \n",
    "                      n_iter=20, \n",
    "                      use_cuda=is_cuda_available())\n",
    "lra_est.fit(train, verbose=True)"
   ]
  },
  {
   "cell_type": "code",
   "execution_count": 121,
   "metadata": {},
   "outputs": [
    {
     "data": {
      "text/plain": [
       "(0.08065573770491803, 0.0514430473199451)"
      ]
     },
     "execution_count": 121,
     "metadata": {},
     "output_type": "execute_result"
    }
   ],
   "source": [
    "prec, recall = precision_recall_score(lra_est, test)\n",
    "prec.mean(), recall.mean()"
   ]
  },
  {
   "cell_type": "code",
   "execution_count": 122,
   "metadata": {},
   "outputs": [
    {
     "data": {
      "text/plain": [
       "(0.030054250525282745, 0.026500794537400105)"
      ]
     },
     "execution_count": 122,
     "metadata": {},
     "output_type": "execute_result"
    }
   ],
   "source": [
    "mrr_score(lra_est, train).mean(), mrr_score(lra_est, test).mean()"
   ]
  },
  {
   "cell_type": "markdown",
   "metadata": {},
   "source": [
    "## Estimator using a deep neural model"
   ]
  },
  {
   "cell_type": "code",
   "execution_count": 51,
   "metadata": {},
   "outputs": [
    {
     "name": "stdout",
     "output_type": "stream",
     "text": [
      "Epoch 0: loss 0.23586470484969732\n",
      "Epoch 1: loss 0.1894077275379335\n",
      "Epoch 2: loss 0.18241314966638947\n",
      "Epoch 3: loss 0.17853012318514797\n",
      "Epoch 4: loss 0.1750466843886912\n",
      "Epoch 5: loss 0.17116528122483646\n",
      "Epoch 6: loss 0.17341163586795613\n",
      "Epoch 7: loss 0.17019281759503904\n",
      "Epoch 8: loss 0.1687646459923871\n",
      "Epoch 9: loss 0.16890244743242128\n",
      "Epoch 10: loss 0.16608317680479795\n",
      "Epoch 11: loss 0.1675762428581809\n",
      "Epoch 12: loss 0.1658183973630899\n",
      "Epoch 13: loss 0.16381410580193373\n",
      "Epoch 14: loss 0.16470830679447546\n",
      "Epoch 15: loss 0.1637588477503101\n",
      "Epoch 16: loss 0.163464301557391\n",
      "Epoch 17: loss 0.16170240344742398\n",
      "Epoch 18: loss 0.1607877084079144\n",
      "Epoch 19: loss 0.1616262861316442\n"
     ]
    }
   ],
   "source": [
    "nn_model = DeepNet(data.n_users, data.n_items, embedding_dim=8, sparse=False, activation=torch.tanh)\n",
    "nn_est = ImplicitEst(model=nn_model, \n",
    "                     n_iter=20, \n",
    "                     use_cuda=is_cuda_available())\n",
    "nn_est.fit(train, verbose=True)"
   ]
  },
  {
   "cell_type": "code",
   "execution_count": 94,
   "metadata": {},
   "outputs": [
    {
     "data": {
      "text/plain": [
       "(0.07508196721311475, 0.04061013597008427)"
      ]
     },
     "execution_count": 94,
     "metadata": {},
     "output_type": "execute_result"
    }
   ],
   "source": [
    "prec, recall = precision_recall_score(nn_est, test)\n",
    "prec.mean(), recall.mean()"
   ]
  },
  {
   "cell_type": "code",
   "execution_count": 95,
   "metadata": {},
   "outputs": [
    {
     "data": {
      "text/plain": [
       "(0.01895119212555599, 0.01881505176850961)"
      ]
     },
     "execution_count": 95,
     "metadata": {},
     "output_type": "execute_result"
    }
   ],
   "source": [
    "mrr_score(nn_est, train).mean(), mrr_score(nn_est, test).mean()"
   ]
  },
  {
   "cell_type": "markdown",
   "metadata": {},
   "source": [
    "## Estimator using a deep residual model"
   ]
  },
  {
   "cell_type": "code",
   "execution_count": 98,
   "metadata": {},
   "outputs": [
    {
     "data": {
      "text/plain": [
       "Parameter containing:\n",
       "tensor([-2.7856, -2.9772, -3.8177, -3.1163, -2.9332, -3.3910, -3.4420, -3.2846,\n",
       "        -2.5489, -3.1643, -3.0984, -3.4706, -2.8285, -3.3326, -3.2923, -3.0912,\n",
       "        -2.5761, -4.0115, -3.1415, -3.3916, -2.3225, -3.3407, -3.3187, -2.5934,\n",
       "        -3.4852, -3.5608, -3.3923, -3.1715, -2.8499, -2.6917, -3.5449, -3.1505],\n",
       "       requires_grad=True)"
      ]
     },
     "execution_count": 98,
     "metadata": {},
     "output_type": "execute_result"
    }
   ],
   "source": [
    "res_model.h1_shift"
   ]
  },
  {
   "cell_type": "code",
   "execution_count": 128,
   "metadata": {},
   "outputs": [],
   "source": [
    "res_model = ResNetPlus(data.n_users, data.n_items, embedding_dim=16, sparse=False)\n",
    "res_est = ImplicitEst(model=res_model, \n",
    "                     n_iter=20, \n",
    "                     use_cuda=is_cuda_available())\n"
   ]
  },
  {
   "cell_type": "code",
   "execution_count": 132,
   "metadata": {},
   "outputs": [
    {
     "name": "stdout",
     "output_type": "stream",
     "text": [
      "Epoch 0: loss 0.07194338748152199\n",
      "Epoch 1: loss 0.07033568748498775\n",
      "Epoch 2: loss 0.07072577106865291\n",
      "Epoch 3: loss 0.06983841150237481\n",
      "Epoch 4: loss 0.06877404474985392\n",
      "Epoch 5: loss 0.06930768591382802\n",
      "Epoch 6: loss 0.06584632108703835\n",
      "Epoch 7: loss 0.06878036650550064\n",
      "Epoch 8: loss 0.06637707301865667\n",
      "Epoch 9: loss 0.06644411792789723\n",
      "Epoch 10: loss 0.06482216810125699\n",
      "Epoch 11: loss 0.06525102499783889\n",
      "Epoch 12: loss 0.06360364171916917\n",
      "Epoch 13: loss 0.06384760997495754\n",
      "Epoch 14: loss 0.0648397792960191\n",
      "Epoch 15: loss 0.06282563619876484\n",
      "Epoch 16: loss 0.06354885548058006\n",
      "Epoch 17: loss 0.06338949519225799\n",
      "Epoch 18: loss 0.06251610719883688\n",
      "Epoch 19: loss 0.06261655574637906\n"
     ]
    }
   ],
   "source": [
    "res_est.fit(train, verbose=True)"
   ]
  },
  {
   "cell_type": "code",
   "execution_count": 133,
   "metadata": {},
   "outputs": [
    {
     "data": {
      "text/plain": [
       "Parameter containing:\n",
       "tensor([-1.4183], requires_grad=True)"
      ]
     },
     "execution_count": 133,
     "metadata": {},
     "output_type": "execute_result"
    }
   ],
   "source": [
    "res_model.w"
   ]
  },
  {
   "cell_type": "code",
   "execution_count": 134,
   "metadata": {},
   "outputs": [
    {
     "data": {
      "text/plain": [
       "(0.0801639344262295, 0.04759151554330833)"
      ]
     },
     "execution_count": 134,
     "metadata": {},
     "output_type": "execute_result"
    }
   ],
   "source": [
    "prec, recall = precision_recall_score(res_est, test)\n",
    "prec.mean(), recall.mean()"
   ]
  },
  {
   "cell_type": "code",
   "execution_count": 135,
   "metadata": {},
   "outputs": [
    {
     "data": {
      "text/plain": [
       "(0.029556562088470826, 0.023649694391458316)"
      ]
     },
     "execution_count": 135,
     "metadata": {},
     "output_type": "execute_result"
    }
   ],
   "source": [
    "mrr_score(res_est, train).mean(), mrr_score(res_est, test).mean()"
   ]
  },
  {
   "cell_type": "code",
   "execution_count": null,
   "metadata": {},
   "outputs": [
    {
     "name": "stdout",
     "output_type": "stream",
     "text": [
      "Epoch 0: loss 0.3099866543679532\n",
      "Epoch 1: loss 0.16082962157231315\n",
      "Epoch 2: loss 0.13252661139859262\n",
      "Epoch 3: loss 0.11672020119079131\n",
      "Epoch 4: loss 0.10738558593765492\n",
      "Epoch 5: loss 0.1023123516168345\n"
     ]
    }
   ],
   "source": [
    "nalu_model = MoTBilinearNet(data.n_users, data.n_items, embedding_dim=10, sparse=False)\n",
    "nalu_est = ImplicitEst(model=nalu_model, \n",
    "                     n_iter=20, \n",
    "                     use_cuda=is_cuda_available())\n",
    "nalu_est.fit(train, verbose=True)"
   ]
  },
  {
   "cell_type": "code",
   "execution_count": 150,
   "metadata": {},
   "outputs": [
    {
     "data": {
      "text/plain": [
       "(0.07655737704918034, 0.04390486253096698)"
      ]
     },
     "execution_count": 150,
     "metadata": {},
     "output_type": "execute_result"
    }
   ],
   "source": [
    "prec, recall = precision_recall_score(nalu_est, test)\n",
    "prec.mean(), recall.mean()"
   ]
  },
  {
   "cell_type": "code",
   "execution_count": 151,
   "metadata": {},
   "outputs": [
    {
     "data": {
      "text/plain": [
       "tensor([0.9812, 0.9927, 0.9991, 0.9774, 0.9952, 0.9411, 0.9966, 0.9833, 0.9974,\n",
       "        0.9947, 0.9683, 0.9986, 0.9382, 0.9951, 0.9706, 0.9577],\n",
       "       grad_fn=<SigmoidBackward>)"
      ]
     },
     "execution_count": 151,
     "metadata": {},
     "output_type": "execute_result"
    }
   ],
   "source": [
    "torch.sigmoid(nalu_model.scaler_w)"
   ]
  },
  {
   "cell_type": "code",
   "execution_count": 152,
   "metadata": {},
   "outputs": [
    {
     "data": {
      "text/plain": [
       "(0.028476218185877214, 0.024242187465120288)"
      ]
     },
     "execution_count": 152,
     "metadata": {},
     "output_type": "execute_result"
    }
   ],
   "source": [
    "mrr_score(nalu_est, train).mean(), mrr_score(nalu_est, test).mean()"
   ]
  },
  {
   "cell_type": "code",
   "execution_count": null,
   "metadata": {},
   "outputs": [],
   "source": []
  }
 ],
 "metadata": {
  "kernelspec": {
   "display_name": "Python 3",
   "language": "python",
   "name": "python3"
  },
  "language_info": {
   "codemirror_mode": {
    "name": "ipython",
    "version": 3
   },
   "file_extension": ".py",
   "mimetype": "text/x-python",
   "name": "python",
   "nbconvert_exporter": "python",
   "pygments_lexer": "ipython3",
   "version": "3.6.7"
  }
 },
 "nbformat": 4,
 "nbformat_minor": 2
}
