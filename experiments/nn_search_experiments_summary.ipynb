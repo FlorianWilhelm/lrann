{
 "cells": [
  {
   "cell_type": "code",
   "execution_count": 1,
   "metadata": {},
   "outputs": [],
   "source": [
    "%load_ext autoreload\n",
    "%autoreload 2"
   ]
  },
  {
   "cell_type": "markdown",
   "metadata": {},
   "source": [
    "# Visualization and Summary of Neural Network Experiments"
   ]
  },
  {
   "cell_type": "code",
   "execution_count": 2,
   "metadata": {},
   "outputs": [],
   "source": [
    "import os\n",
    "\n",
    "import matplotlib.patches as patches\n",
    "import matplotlib.pyplot as plt\n",
    "import numpy as np\n",
    "import pandas as pd\n",
    "import yaml"
   ]
  },
  {
   "cell_type": "code",
   "execution_count": 3,
   "metadata": {},
   "outputs": [],
   "source": [
    "from lrann.experiments import get_latent_factors, retrieve_estimator\n",
    "from lrann.datasets import DataLoader, random_train_test_split\n",
    "from lrann.evaluations import precision_recall_score, mrr_score, auc_score\n",
    "from lrann.model_collection import ModelCollection\n",
    "from lrann.models import DeepNet\n",
    "from lrann.estimators import ImplicitEst\n",
    "from lrann.utils import is_cuda_available"
   ]
  },
  {
   "cell_type": "markdown",
   "metadata": {},
   "source": [
    "## Load Config and Experiment Results"
   ]
  },
  {
   "cell_type": "code",
   "execution_count": 4,
   "metadata": {},
   "outputs": [
    {
     "name": "stdout",
     "output_type": "stream",
     "text": [
      "MRR for MF_best: 0.043602\n"
     ]
    }
   ],
   "source": [
    "mf_best_mrr = yaml.load(open('experiment_config.yml'),\n",
    "                        Loader=yaml.FullLoader)['mf_best_params']['mrr']\n",
    "print(\"MRR for MF_best: {}\".format(mf_best_mrr))"
   ]
  },
  {
   "cell_type": "code",
   "execution_count": 5,
   "metadata": {},
   "outputs": [],
   "source": [
    "folderpaths = dict.fromkeys(['concat', 'hadamard'])\n",
    "filepaths = dict.fromkeys(['concat', 'hadamard'])"
   ]
  },
  {
   "cell_type": "code",
   "execution_count": 6,
   "metadata": {},
   "outputs": [],
   "source": [
    "folderpaths['concat'] = 'results/nn_search/hadamard_FALSE_0420/'\n",
    "folderpaths['hadamard'] = 'results/nn_search/hadamard_TRUE_0420/'"
   ]
  },
  {
   "cell_type": "code",
   "execution_count": 7,
   "metadata": {},
   "outputs": [],
   "source": [
    "filenames = os.listdir(folderpaths['concat'])\n",
    "filenames.remove('models')\n",
    "filepaths['concat'] = [os.path.join(folderpaths['concat'], filename)\n",
    "                       for filename in filenames]\n",
    "filenames = os.listdir(folderpaths['hadamard'])\n",
    "filenames.remove('models')\n",
    "filepaths['hadamard'] = [os.path.join(folderpaths['hadamard'], filename)\n",
    "                         for filename in filenames]"
   ]
  },
  {
   "cell_type": "code",
   "execution_count": 8,
   "metadata": {},
   "outputs": [
    {
     "data": {
      "text/plain": [
       "['results/nn_search/hadamard_FALSE_0420/unpretrained_trainable_0.01.csv',\n",
       " 'results/nn_search/hadamard_FALSE_0420/unpretrained_trainable_0.003.csv',\n",
       " 'results/nn_search/hadamard_FALSE_0420/unpretrained_trainable_0.001.csv',\n",
       " 'results/nn_search/hadamard_FALSE_0420/pretrained_untrainable_0.01.csv',\n",
       " 'results/nn_search/hadamard_FALSE_0420/pretrained_untrainable_0.001.csv',\n",
       " 'results/nn_search/hadamard_FALSE_0420/pretrained_untrainable_0.003.csv',\n",
       " 'results/nn_search/hadamard_FALSE_0420/pretrained_trainable_0.01.csv',\n",
       " 'results/nn_search/hadamard_FALSE_0420/pretrained_trainable_0.003.csv',\n",
       " 'results/nn_search/hadamard_FALSE_0420/pretrained_trainable_0.001.csv']"
      ]
     },
     "execution_count": 8,
     "metadata": {},
     "output_type": "execute_result"
    }
   ],
   "source": [
    "filepaths['concat']"
   ]
  },
  {
   "cell_type": "code",
   "execution_count": 9,
   "metadata": {},
   "outputs": [
    {
     "data": {
      "text/plain": [
       "['results/nn_search/hadamard_TRUE_0420/pretrained_trainable_0.003_hadamard.csv',\n",
       " 'results/nn_search/hadamard_TRUE_0420/pretrained_untrainable_0.01_hadamard.csv',\n",
       " 'results/nn_search/hadamard_TRUE_0420/pretrained_trainable_0.01_hadamard.csv',\n",
       " 'results/nn_search/hadamard_TRUE_0420/unpretrained_trainable_0.001_hadamard.csv',\n",
       " 'results/nn_search/hadamard_TRUE_0420/pretrained_untrainable_0.003_hadamard.csv',\n",
       " 'results/nn_search/hadamard_TRUE_0420/unpretrained_trainable_0.01_hadamard.csv',\n",
       " 'results/nn_search/hadamard_TRUE_0420/pretrained_untrainable_0.001_hadamard.csv',\n",
       " 'results/nn_search/hadamard_TRUE_0420/unpretrained_trainable_0.003_hadamard.csv',\n",
       " 'results/nn_search/hadamard_TRUE_0420/pretrained_trainable_0.001_hadamard.csv']"
      ]
     },
     "execution_count": 9,
     "metadata": {},
     "output_type": "execute_result"
    }
   ],
   "source": [
    "filepaths['hadamard']"
   ]
  },
  {
   "cell_type": "code",
   "execution_count": 10,
   "metadata": {},
   "outputs": [],
   "source": [
    "results_concat = pd.concat([pd.read_csv(filepath)\n",
    "                            for filepath in filepaths['concat']],\n",
    "                           axis=0)\n",
    "results_concat['rel_perf_gain'] = results_concat['test_mrr']/mf_best_mrr - 1\n",
    "results_concat['rel_perf_gain'] = results_concat['rel_perf_gain']\\\n",
    "                                    .astype(float)\\\n",
    "                                    .map(\"{:.2%}\".format)"
   ]
  },
  {
   "cell_type": "code",
   "execution_count": 11,
   "metadata": {},
   "outputs": [],
   "source": [
    "results_hadamard = pd.concat([pd.read_csv(filepath)\n",
    "                              for filepath in filepaths['hadamard']],\n",
    "                             axis=0)\n",
    "results_hadamard['rel_perf_gain'] = results_hadamard['test_mrr']/mf_best_mrr - 1\n",
    "results_hadamard['rel_perf_gain'] = results_hadamard['rel_perf_gain']\\\n",
    "                                        .astype(float)\\\n",
    "                                        .map(\"{:.2%}\".format)"
   ]
  },
  {
   "cell_type": "markdown",
   "metadata": {},
   "source": [
    "## The best model (for `concat` and `hadamard`)"
   ]
  },
  {
   "cell_type": "code",
   "execution_count": 12,
   "metadata": {},
   "outputs": [
    {
     "data": {
      "text/html": [
       "<div>\n",
       "<style scoped>\n",
       "    .dataframe tbody tr th:only-of-type {\n",
       "        vertical-align: middle;\n",
       "    }\n",
       "\n",
       "    .dataframe tbody tr th {\n",
       "        vertical-align: top;\n",
       "    }\n",
       "\n",
       "    .dataframe thead th {\n",
       "        text-align: right;\n",
       "    }\n",
       "</style>\n",
       "<table border=\"1\" class=\"dataframe\">\n",
       "  <thead>\n",
       "    <tr style=\"text-align: right;\">\n",
       "      <th></th>\n",
       "      <th>mode</th>\n",
       "      <th>test_mrr</th>\n",
       "    </tr>\n",
       "  </thead>\n",
       "  <tbody>\n",
       "    <tr>\n",
       "      <th>1</th>\n",
       "      <td>pretrained_untrainable</td>\n",
       "      <td>0.044923</td>\n",
       "    </tr>\n",
       "    <tr>\n",
       "      <th>0</th>\n",
       "      <td>pretrained_trainable</td>\n",
       "      <td>0.044400</td>\n",
       "    </tr>\n",
       "    <tr>\n",
       "      <th>2</th>\n",
       "      <td>unpretrained_trainable</td>\n",
       "      <td>0.036911</td>\n",
       "    </tr>\n",
       "  </tbody>\n",
       "</table>\n",
       "</div>"
      ],
      "text/plain": [
       "                     mode  test_mrr\n",
       "1  pretrained_untrainable  0.044923\n",
       "0    pretrained_trainable  0.044400\n",
       "2  unpretrained_trainable  0.036911"
      ]
     },
     "execution_count": 12,
     "metadata": {},
     "output_type": "execute_result"
    }
   ],
   "source": [
    "grouped = results_concat[['mode', 'test_mrr']].groupby('mode').max()\n",
    "grouped.reset_index().sort_values('test_mrr', ascending=False)"
   ]
  },
  {
   "cell_type": "code",
   "execution_count": 13,
   "metadata": {},
   "outputs": [
    {
     "data": {
      "text/html": [
       "<div>\n",
       "<style scoped>\n",
       "    .dataframe tbody tr th:only-of-type {\n",
       "        vertical-align: middle;\n",
       "    }\n",
       "\n",
       "    .dataframe tbody tr th {\n",
       "        vertical-align: top;\n",
       "    }\n",
       "\n",
       "    .dataframe thead th {\n",
       "        text-align: right;\n",
       "    }\n",
       "</style>\n",
       "<table border=\"1\" class=\"dataframe\">\n",
       "  <thead>\n",
       "    <tr style=\"text-align: right;\">\n",
       "      <th></th>\n",
       "      <th>mode</th>\n",
       "      <th>test_mrr</th>\n",
       "    </tr>\n",
       "  </thead>\n",
       "  <tbody>\n",
       "    <tr>\n",
       "      <th>0</th>\n",
       "      <td>pretrained_trainable</td>\n",
       "      <td>0.047343</td>\n",
       "    </tr>\n",
       "    <tr>\n",
       "      <th>1</th>\n",
       "      <td>pretrained_untrainable</td>\n",
       "      <td>0.044922</td>\n",
       "    </tr>\n",
       "    <tr>\n",
       "      <th>2</th>\n",
       "      <td>unpretrained_trainable</td>\n",
       "      <td>0.044505</td>\n",
       "    </tr>\n",
       "  </tbody>\n",
       "</table>\n",
       "</div>"
      ],
      "text/plain": [
       "                     mode  test_mrr\n",
       "0    pretrained_trainable  0.047343\n",
       "1  pretrained_untrainable  0.044922\n",
       "2  unpretrained_trainable  0.044505"
      ]
     },
     "execution_count": 13,
     "metadata": {},
     "output_type": "execute_result"
    }
   ],
   "source": [
    "grouped = results_hadamard[['mode', 'test_mrr']].groupby('mode').max()\n",
    "grouped.reset_index().sort_values('test_mrr', ascending=False)"
   ]
  },
  {
   "cell_type": "markdown",
   "metadata": {},
   "source": [
    "### Best Mode Results: `hadamard=False`"
   ]
  },
  {
   "cell_type": "code",
   "execution_count": 14,
   "metadata": {},
   "outputs": [
    {
     "data": {
      "text/html": [
       "<div>\n",
       "<style scoped>\n",
       "    .dataframe tbody tr th:only-of-type {\n",
       "        vertical-align: middle;\n",
       "    }\n",
       "\n",
       "    .dataframe tbody tr th {\n",
       "        vertical-align: top;\n",
       "    }\n",
       "\n",
       "    .dataframe thead th {\n",
       "        text-align: right;\n",
       "    }\n",
       "</style>\n",
       "<table border=\"1\" class=\"dataframe\">\n",
       "  <thead>\n",
       "    <tr style=\"text-align: right;\">\n",
       "      <th></th>\n",
       "      <th>mode</th>\n",
       "      <th>model</th>\n",
       "      <th>torch_seed</th>\n",
       "      <th>learning_rate</th>\n",
       "      <th>epoch</th>\n",
       "      <th>test_mrr</th>\n",
       "      <th>eval_time</th>\n",
       "      <th>train_time</th>\n",
       "      <th>n_params</th>\n",
       "      <th>rel_perf_gain</th>\n",
       "    </tr>\n",
       "  </thead>\n",
       "  <tbody>\n",
       "    <tr>\n",
       "      <th>1078</th>\n",
       "      <td>pretrained_untrainable</td>\n",
       "      <td>triple_model_relu</td>\n",
       "      <td>28</td>\n",
       "      <td>0.001</td>\n",
       "      <td>18</td>\n",
       "      <td>0.044923</td>\n",
       "      <td>20</td>\n",
       "      <td>2</td>\n",
       "      <td>343233</td>\n",
       "      <td>3.03%</td>\n",
       "    </tr>\n",
       "    <tr>\n",
       "      <th>187</th>\n",
       "      <td>pretrained_untrainable</td>\n",
       "      <td>single_model_elu</td>\n",
       "      <td>83</td>\n",
       "      <td>0.010</td>\n",
       "      <td>7</td>\n",
       "      <td>0.044828</td>\n",
       "      <td>27</td>\n",
       "      <td>3</td>\n",
       "      <td>334913</td>\n",
       "      <td>2.81%</td>\n",
       "    </tr>\n",
       "    <tr>\n",
       "      <th>207</th>\n",
       "      <td>pretrained_untrainable</td>\n",
       "      <td>single_model_relu</td>\n",
       "      <td>42</td>\n",
       "      <td>0.003</td>\n",
       "      <td>7</td>\n",
       "      <td>0.044598</td>\n",
       "      <td>10</td>\n",
       "      <td>1</td>\n",
       "      <td>334913</td>\n",
       "      <td>2.29%</td>\n",
       "    </tr>\n",
       "  </tbody>\n",
       "</table>\n",
       "</div>"
      ],
      "text/plain": [
       "                        mode              model  torch_seed  learning_rate  \\\n",
       "1078  pretrained_untrainable  triple_model_relu          28          0.001   \n",
       "187   pretrained_untrainable   single_model_elu          83          0.010   \n",
       "207   pretrained_untrainable  single_model_relu          42          0.003   \n",
       "\n",
       "      epoch  test_mrr  eval_time  train_time  n_params rel_perf_gain  \n",
       "1078     18  0.044923         20           2    343233         3.03%  \n",
       "187       7  0.044828         27           3    334913         2.81%  \n",
       "207       7  0.044598         10           1    334913         2.29%  "
      ]
     },
     "execution_count": 14,
     "metadata": {},
     "output_type": "execute_result"
    }
   ],
   "source": [
    "results_concat[results_concat['mode'] == 'pretrained_untrainable']\\\n",
    "    .sort_values('test_mrr', ascending=False).head(3)"
   ]
  },
  {
   "cell_type": "code",
   "execution_count": 15,
   "metadata": {},
   "outputs": [
    {
     "data": {
      "text/html": [
       "<div>\n",
       "<style scoped>\n",
       "    .dataframe tbody tr th:only-of-type {\n",
       "        vertical-align: middle;\n",
       "    }\n",
       "\n",
       "    .dataframe tbody tr th {\n",
       "        vertical-align: top;\n",
       "    }\n",
       "\n",
       "    .dataframe thead th {\n",
       "        text-align: right;\n",
       "    }\n",
       "</style>\n",
       "<table border=\"1\" class=\"dataframe\">\n",
       "  <thead>\n",
       "    <tr style=\"text-align: right;\">\n",
       "      <th></th>\n",
       "      <th>mode</th>\n",
       "      <th>model</th>\n",
       "      <th>torch_seed</th>\n",
       "      <th>learning_rate</th>\n",
       "      <th>epoch</th>\n",
       "      <th>test_mrr</th>\n",
       "      <th>eval_time</th>\n",
       "      <th>train_time</th>\n",
       "      <th>n_params</th>\n",
       "      <th>rel_perf_gain</th>\n",
       "    </tr>\n",
       "  </thead>\n",
       "  <tbody>\n",
       "    <tr>\n",
       "      <th>537</th>\n",
       "      <td>pretrained_trainable</td>\n",
       "      <td>double_model_elu</td>\n",
       "      <td>147</td>\n",
       "      <td>0.001</td>\n",
       "      <td>17</td>\n",
       "      <td>0.044400</td>\n",
       "      <td>29</td>\n",
       "      <td>11</td>\n",
       "      <td>339073</td>\n",
       "      <td>1.83%</td>\n",
       "    </tr>\n",
       "    <tr>\n",
       "      <th>818</th>\n",
       "      <td>pretrained_trainable</td>\n",
       "      <td>double_model_tanh</td>\n",
       "      <td>42</td>\n",
       "      <td>0.001</td>\n",
       "      <td>18</td>\n",
       "      <td>0.044049</td>\n",
       "      <td>13</td>\n",
       "      <td>11</td>\n",
       "      <td>339073</td>\n",
       "      <td>1.02%</td>\n",
       "    </tr>\n",
       "    <tr>\n",
       "      <th>1126</th>\n",
       "      <td>pretrained_trainable</td>\n",
       "      <td>triple_model_sigmoid</td>\n",
       "      <td>147</td>\n",
       "      <td>0.003</td>\n",
       "      <td>6</td>\n",
       "      <td>0.043938</td>\n",
       "      <td>15</td>\n",
       "      <td>5</td>\n",
       "      <td>343233</td>\n",
       "      <td>0.77%</td>\n",
       "    </tr>\n",
       "  </tbody>\n",
       "</table>\n",
       "</div>"
      ],
      "text/plain": [
       "                      mode                 model  torch_seed  learning_rate  \\\n",
       "537   pretrained_trainable      double_model_elu         147          0.001   \n",
       "818   pretrained_trainable     double_model_tanh          42          0.001   \n",
       "1126  pretrained_trainable  triple_model_sigmoid         147          0.003   \n",
       "\n",
       "      epoch  test_mrr  eval_time  train_time  n_params rel_perf_gain  \n",
       "537      17  0.044400         29          11    339073         1.83%  \n",
       "818      18  0.044049         13          11    339073         1.02%  \n",
       "1126      6  0.043938         15           5    343233         0.77%  "
      ]
     },
     "execution_count": 15,
     "metadata": {},
     "output_type": "execute_result"
    }
   ],
   "source": [
    "results_concat[results_concat['mode'] == 'pretrained_trainable']\\\n",
    "    .sort_values('test_mrr', ascending=False).head(3)"
   ]
  },
  {
   "cell_type": "code",
   "execution_count": 16,
   "metadata": {},
   "outputs": [
    {
     "data": {
      "text/html": [
       "<div>\n",
       "<style scoped>\n",
       "    .dataframe tbody tr th:only-of-type {\n",
       "        vertical-align: middle;\n",
       "    }\n",
       "\n",
       "    .dataframe tbody tr th {\n",
       "        vertical-align: top;\n",
       "    }\n",
       "\n",
       "    .dataframe thead th {\n",
       "        text-align: right;\n",
       "    }\n",
       "</style>\n",
       "<table border=\"1\" class=\"dataframe\">\n",
       "  <thead>\n",
       "    <tr style=\"text-align: right;\">\n",
       "      <th></th>\n",
       "      <th>mode</th>\n",
       "      <th>model</th>\n",
       "      <th>torch_seed</th>\n",
       "      <th>learning_rate</th>\n",
       "      <th>epoch</th>\n",
       "      <th>test_mrr</th>\n",
       "      <th>eval_time</th>\n",
       "      <th>train_time</th>\n",
       "      <th>n_params</th>\n",
       "      <th>rel_perf_gain</th>\n",
       "    </tr>\n",
       "  </thead>\n",
       "  <tbody>\n",
       "    <tr>\n",
       "      <th>794</th>\n",
       "      <td>unpretrained_trainable</td>\n",
       "      <td>double_model_sigmoid</td>\n",
       "      <td>83</td>\n",
       "      <td>0.001</td>\n",
       "      <td>14</td>\n",
       "      <td>0.036911</td>\n",
       "      <td>17</td>\n",
       "      <td>8</td>\n",
       "      <td>339073</td>\n",
       "      <td>-15.34%</td>\n",
       "    </tr>\n",
       "    <tr>\n",
       "      <th>1174</th>\n",
       "      <td>unpretrained_trainable</td>\n",
       "      <td>triple_model_sigmoid</td>\n",
       "      <td>28</td>\n",
       "      <td>0.001</td>\n",
       "      <td>14</td>\n",
       "      <td>0.036823</td>\n",
       "      <td>14</td>\n",
       "      <td>6</td>\n",
       "      <td>343233</td>\n",
       "      <td>-15.55%</td>\n",
       "    </tr>\n",
       "    <tr>\n",
       "      <th>754</th>\n",
       "      <td>unpretrained_trainable</td>\n",
       "      <td>double_model_sigmoid</td>\n",
       "      <td>17</td>\n",
       "      <td>0.001</td>\n",
       "      <td>14</td>\n",
       "      <td>0.036770</td>\n",
       "      <td>18</td>\n",
       "      <td>9</td>\n",
       "      <td>339073</td>\n",
       "      <td>-15.67%</td>\n",
       "    </tr>\n",
       "  </tbody>\n",
       "</table>\n",
       "</div>"
      ],
      "text/plain": [
       "                        mode                 model  torch_seed  learning_rate  \\\n",
       "794   unpretrained_trainable  double_model_sigmoid          83          0.001   \n",
       "1174  unpretrained_trainable  triple_model_sigmoid          28          0.001   \n",
       "754   unpretrained_trainable  double_model_sigmoid          17          0.001   \n",
       "\n",
       "      epoch  test_mrr  eval_time  train_time  n_params rel_perf_gain  \n",
       "794      14  0.036911         17           8    339073       -15.34%  \n",
       "1174     14  0.036823         14           6    343233       -15.55%  \n",
       "754      14  0.036770         18           9    339073       -15.67%  "
      ]
     },
     "execution_count": 16,
     "metadata": {},
     "output_type": "execute_result"
    }
   ],
   "source": [
    "results_concat[results_concat['mode'] == 'unpretrained_trainable']\\\n",
    "    .sort_values('test_mrr', ascending=False).head(3)"
   ]
  },
  {
   "cell_type": "markdown",
   "metadata": {},
   "source": [
    "### Best Mode Results: `hadamard=True`"
   ]
  },
  {
   "cell_type": "code",
   "execution_count": 17,
   "metadata": {},
   "outputs": [
    {
     "data": {
      "text/html": [
       "<div>\n",
       "<style scoped>\n",
       "    .dataframe tbody tr th:only-of-type {\n",
       "        vertical-align: middle;\n",
       "    }\n",
       "\n",
       "    .dataframe tbody tr th {\n",
       "        vertical-align: top;\n",
       "    }\n",
       "\n",
       "    .dataframe thead th {\n",
       "        text-align: right;\n",
       "    }\n",
       "</style>\n",
       "<table border=\"1\" class=\"dataframe\">\n",
       "  <thead>\n",
       "    <tr style=\"text-align: right;\">\n",
       "      <th></th>\n",
       "      <th>mode</th>\n",
       "      <th>model</th>\n",
       "      <th>torch_seed</th>\n",
       "      <th>learning_rate</th>\n",
       "      <th>epoch</th>\n",
       "      <th>test_mrr</th>\n",
       "      <th>eval_time</th>\n",
       "      <th>train_time</th>\n",
       "      <th>n_params</th>\n",
       "      <th>rel_perf_gain</th>\n",
       "    </tr>\n",
       "  </thead>\n",
       "  <tbody>\n",
       "    <tr>\n",
       "      <th>834</th>\n",
       "      <td>pretrained_untrainable</td>\n",
       "      <td>double_model_tanh</td>\n",
       "      <td>147</td>\n",
       "      <td>0.003</td>\n",
       "      <td>14</td>\n",
       "      <td>0.044922</td>\n",
       "      <td>9</td>\n",
       "      <td>1</td>\n",
       "      <td>332833</td>\n",
       "      <td>3.03%</td>\n",
       "    </tr>\n",
       "    <tr>\n",
       "      <th>496</th>\n",
       "      <td>pretrained_untrainable</td>\n",
       "      <td>single_model_tanh</td>\n",
       "      <td>83</td>\n",
       "      <td>0.010</td>\n",
       "      <td>16</td>\n",
       "      <td>0.044767</td>\n",
       "      <td>5</td>\n",
       "      <td>1</td>\n",
       "      <td>331777</td>\n",
       "      <td>2.67%</td>\n",
       "    </tr>\n",
       "    <tr>\n",
       "      <th>699</th>\n",
       "      <td>pretrained_untrainable</td>\n",
       "      <td>double_model_relu</td>\n",
       "      <td>83</td>\n",
       "      <td>0.010</td>\n",
       "      <td>19</td>\n",
       "      <td>0.044669</td>\n",
       "      <td>9</td>\n",
       "      <td>1</td>\n",
       "      <td>332833</td>\n",
       "      <td>2.45%</td>\n",
       "    </tr>\n",
       "  </tbody>\n",
       "</table>\n",
       "</div>"
      ],
      "text/plain": [
       "                       mode              model  torch_seed  learning_rate  \\\n",
       "834  pretrained_untrainable  double_model_tanh         147          0.003   \n",
       "496  pretrained_untrainable  single_model_tanh          83          0.010   \n",
       "699  pretrained_untrainable  double_model_relu          83          0.010   \n",
       "\n",
       "     epoch  test_mrr  eval_time  train_time  n_params rel_perf_gain  \n",
       "834     14  0.044922          9           1    332833         3.03%  \n",
       "496     16  0.044767          5           1    331777         2.67%  \n",
       "699     19  0.044669          9           1    332833         2.45%  "
      ]
     },
     "execution_count": 17,
     "metadata": {},
     "output_type": "execute_result"
    }
   ],
   "source": [
    "results_hadamard[results_hadamard['mode'] == 'pretrained_untrainable']\\\n",
    "    .sort_values('test_mrr', ascending=False).head(3)"
   ]
  },
  {
   "cell_type": "code",
   "execution_count": 18,
   "metadata": {},
   "outputs": [
    {
     "data": {
      "text/html": [
       "<div>\n",
       "<style scoped>\n",
       "    .dataframe tbody tr th:only-of-type {\n",
       "        vertical-align: middle;\n",
       "    }\n",
       "\n",
       "    .dataframe tbody tr th {\n",
       "        vertical-align: top;\n",
       "    }\n",
       "\n",
       "    .dataframe thead th {\n",
       "        text-align: right;\n",
       "    }\n",
       "</style>\n",
       "<table border=\"1\" class=\"dataframe\">\n",
       "  <thead>\n",
       "    <tr style=\"text-align: right;\">\n",
       "      <th></th>\n",
       "      <th>mode</th>\n",
       "      <th>model</th>\n",
       "      <th>torch_seed</th>\n",
       "      <th>learning_rate</th>\n",
       "      <th>epoch</th>\n",
       "      <th>test_mrr</th>\n",
       "      <th>eval_time</th>\n",
       "      <th>train_time</th>\n",
       "      <th>n_params</th>\n",
       "      <th>rel_perf_gain</th>\n",
       "    </tr>\n",
       "  </thead>\n",
       "  <tbody>\n",
       "    <tr>\n",
       "      <th>21</th>\n",
       "      <td>pretrained_trainable</td>\n",
       "      <td>perceptron</td>\n",
       "      <td>147</td>\n",
       "      <td>0.003</td>\n",
       "      <td>1</td>\n",
       "      <td>0.047343</td>\n",
       "      <td>3</td>\n",
       "      <td>3</td>\n",
       "      <td>330721</td>\n",
       "      <td>8.58%</td>\n",
       "    </tr>\n",
       "    <tr>\n",
       "      <th>960</th>\n",
       "      <td>pretrained_trainable</td>\n",
       "      <td>triple_model_elu</td>\n",
       "      <td>28</td>\n",
       "      <td>0.003</td>\n",
       "      <td>0</td>\n",
       "      <td>0.046758</td>\n",
       "      <td>18</td>\n",
       "      <td>3</td>\n",
       "      <td>333889</td>\n",
       "      <td>7.24%</td>\n",
       "    </tr>\n",
       "    <tr>\n",
       "      <th>220</th>\n",
       "      <td>pretrained_trainable</td>\n",
       "      <td>single_model_relu</td>\n",
       "      <td>147</td>\n",
       "      <td>0.003</td>\n",
       "      <td>0</td>\n",
       "      <td>0.046624</td>\n",
       "      <td>7</td>\n",
       "      <td>2</td>\n",
       "      <td>331777</td>\n",
       "      <td>6.93%</td>\n",
       "    </tr>\n",
       "  </tbody>\n",
       "</table>\n",
       "</div>"
      ],
      "text/plain": [
       "                     mode              model  torch_seed  learning_rate  \\\n",
       "21   pretrained_trainable         perceptron         147          0.003   \n",
       "960  pretrained_trainable   triple_model_elu          28          0.003   \n",
       "220  pretrained_trainable  single_model_relu         147          0.003   \n",
       "\n",
       "     epoch  test_mrr  eval_time  train_time  n_params rel_perf_gain  \n",
       "21       1  0.047343          3           3    330721         8.58%  \n",
       "960      0  0.046758         18           3    333889         7.24%  \n",
       "220      0  0.046624          7           2    331777         6.93%  "
      ]
     },
     "execution_count": 18,
     "metadata": {},
     "output_type": "execute_result"
    }
   ],
   "source": [
    "results_hadamard[results_hadamard['mode'] == 'pretrained_trainable']\\\n",
    "    .sort_values('test_mrr', ascending=False).head(3)"
   ]
  },
  {
   "cell_type": "code",
   "execution_count": 19,
   "metadata": {},
   "outputs": [
    {
     "data": {
      "text/html": [
       "<div>\n",
       "<style scoped>\n",
       "    .dataframe tbody tr th:only-of-type {\n",
       "        vertical-align: middle;\n",
       "    }\n",
       "\n",
       "    .dataframe tbody tr th {\n",
       "        vertical-align: top;\n",
       "    }\n",
       "\n",
       "    .dataframe thead th {\n",
       "        text-align: right;\n",
       "    }\n",
       "</style>\n",
       "<table border=\"1\" class=\"dataframe\">\n",
       "  <thead>\n",
       "    <tr style=\"text-align: right;\">\n",
       "      <th></th>\n",
       "      <th>mode</th>\n",
       "      <th>model</th>\n",
       "      <th>torch_seed</th>\n",
       "      <th>learning_rate</th>\n",
       "      <th>epoch</th>\n",
       "      <th>test_mrr</th>\n",
       "      <th>eval_time</th>\n",
       "      <th>train_time</th>\n",
       "      <th>n_params</th>\n",
       "      <th>rel_perf_gain</th>\n",
       "    </tr>\n",
       "  </thead>\n",
       "  <tbody>\n",
       "    <tr>\n",
       "      <th>9</th>\n",
       "      <td>unpretrained_trainable</td>\n",
       "      <td>perceptron</td>\n",
       "      <td>42</td>\n",
       "      <td>0.001</td>\n",
       "      <td>9</td>\n",
       "      <td>0.044505</td>\n",
       "      <td>2</td>\n",
       "      <td>3</td>\n",
       "      <td>330721</td>\n",
       "      <td>2.07%</td>\n",
       "    </tr>\n",
       "    <tr>\n",
       "      <th>10</th>\n",
       "      <td>unpretrained_trainable</td>\n",
       "      <td>perceptron</td>\n",
       "      <td>42</td>\n",
       "      <td>0.001</td>\n",
       "      <td>10</td>\n",
       "      <td>0.043655</td>\n",
       "      <td>3</td>\n",
       "      <td>3</td>\n",
       "      <td>330721</td>\n",
       "      <td>0.12%</td>\n",
       "    </tr>\n",
       "    <tr>\n",
       "      <th>11</th>\n",
       "      <td>unpretrained_trainable</td>\n",
       "      <td>perceptron</td>\n",
       "      <td>42</td>\n",
       "      <td>0.001</td>\n",
       "      <td>11</td>\n",
       "      <td>0.042566</td>\n",
       "      <td>3</td>\n",
       "      <td>3</td>\n",
       "      <td>330721</td>\n",
       "      <td>-2.38%</td>\n",
       "    </tr>\n",
       "  </tbody>\n",
       "</table>\n",
       "</div>"
      ],
      "text/plain": [
       "                      mode       model  torch_seed  learning_rate  epoch  \\\n",
       "9   unpretrained_trainable  perceptron          42          0.001      9   \n",
       "10  unpretrained_trainable  perceptron          42          0.001     10   \n",
       "11  unpretrained_trainable  perceptron          42          0.001     11   \n",
       "\n",
       "    test_mrr  eval_time  train_time  n_params rel_perf_gain  \n",
       "9   0.044505          2           3    330721         2.07%  \n",
       "10  0.043655          3           3    330721         0.12%  \n",
       "11  0.042566          3           3    330721        -2.38%  "
      ]
     },
     "execution_count": 19,
     "metadata": {},
     "output_type": "execute_result"
    }
   ],
   "source": [
    "results_hadamard[results_hadamard['mode'] == 'unpretrained_trainable']\\\n",
    "    .sort_values('test_mrr', ascending=False).head(3)"
   ]
  },
  {
   "cell_type": "markdown",
   "metadata": {},
   "source": [
    "## Effectiveness: Accuracy Comparison"
   ]
  },
  {
   "cell_type": "code",
   "execution_count": 20,
   "metadata": {},
   "outputs": [],
   "source": [
    "best_nn_model_no_hadamard = {}\n",
    "for key in ['unpretrained_trainable', 'pretrained_trainable', 'pretrained_untrainable']:\n",
    "    res = results_concat[results_concat['mode'] == key]\\\n",
    "        .sort_values('test_mrr', ascending=False)['test_mrr'].iloc[0]\n",
    "    best_nn_model_no_hadamard[key] = res"
   ]
  },
  {
   "cell_type": "code",
   "execution_count": 21,
   "metadata": {},
   "outputs": [],
   "source": [
    "best_nn_model_hadamard = {}\n",
    "for key in ['unpretrained_trainable', 'pretrained_trainable', 'pretrained_untrainable']:\n",
    "    res = results_hadamard[results_hadamard['mode'] == key]\\\n",
    "        .sort_values('test_mrr', ascending=False)['test_mrr'].iloc[0]\n",
    "    best_nn_model_hadamard[key] = res"
   ]
  },
  {
   "cell_type": "code",
   "execution_count": 22,
   "metadata": {},
   "outputs": [
    {
     "data": {
      "text/plain": [
       "{'unpretrained_trainable': 0.03691129399670865,\n",
       " 'pretrained_trainable': 0.04439957649469315,\n",
       " 'pretrained_untrainable': 0.044923283007316135}"
      ]
     },
     "execution_count": 22,
     "metadata": {},
     "output_type": "execute_result"
    }
   ],
   "source": [
    "best_nn_model_no_hadamard"
   ]
  },
  {
   "cell_type": "code",
   "execution_count": 23,
   "metadata": {},
   "outputs": [
    {
     "data": {
      "text/plain": [
       "{'unpretrained_trainable': 0.044505381050330486,\n",
       " 'pretrained_trainable': 0.04734281838327447,\n",
       " 'pretrained_untrainable': 0.044921675682762605}"
      ]
     },
     "execution_count": 23,
     "metadata": {},
     "output_type": "execute_result"
    }
   ],
   "source": [
    "best_nn_model_hadamard"
   ]
  },
  {
   "cell_type": "markdown",
   "metadata": {},
   "source": [
    "Remark: Red Threshold bar needs manual adjustment!"
   ]
  },
  {
   "cell_type": "code",
   "execution_count": 24,
   "metadata": {},
   "outputs": [
    {
     "data": {
      "text/plain": [
       "<function matplotlib.pyplot.show(*args, **kw)>"
      ]
     },
     "execution_count": 24,
     "metadata": {},
     "output_type": "execute_result"
    },
    {
     "data": {
      "image/png": "[encoded data removed]",
      "text/plain": [
       "<Figure size 576x432 with 1 Axes>"
      ]
     },
     "metadata": {
      "needs_background": "light"
     },
     "output_type": "display_data"
    }
   ],
   "source": [
    "fig = plt.figure(figsize=(8,6))\n",
    "plt.ylim([0, 0.05])\n",
    "plt.bar(np.arange(3)-0.2, best_nn_model_no_hadamard.values(), width=0.4,\n",
    "        edgecolor=\"black\", lw=0.8, color='#003C7E',align='center')\n",
    "plt.bar(np.arange(3)+0.2, best_nn_model_hadamard.values(), width=0.4,\n",
    "        edgecolor=\"black\", lw=0.8, color='#5485C2',align='center')\n",
    "fig.patches.extend([plt.Rectangle([0.125, .78], 0.775, 0.002, fill=True,\n",
    "                                  color='r', transform=fig.transFigure, figure=fig)])\n",
    "plt.text(1.7, mf_best_mrr*1.05, \"$MRR_{MF} = 0.0436$\", fontdict={'fontsize':14, 'color': 'red'})\n",
    "# put tags on best_no_hadamard\n",
    "for idx, val in enumerate([\"{:.2%}\".format(val/mf_best_mrr-1)\n",
    "                           for val in best_nn_model_no_hadamard.values()]):\n",
    "    plt.text(-0.37+idx, mf_best_mrr*0.75, val,\n",
    "             fontdict={'fontsize':12, 'color': 'white', 'weight': 'bold'})\n",
    "for idx, val in enumerate([\"{:.2%}\".format(val/mf_best_mrr-1)\n",
    "                           for val in best_nn_model_hadamard.values()]):\n",
    "    plt.text(0.07+idx, mf_best_mrr*0.75, val,\n",
    "             fontdict={'fontsize':12, 'color': 'white', 'weight': 'bold'})\n",
    "plt.ylabel('MRR', fontdict={'fontsize': 18})\n",
    "plt.xticks(range(3), [r\"$DNN$\",\n",
    "                      r\"$DNN_{pretrained}$\",\n",
    "                      r\"$DNN_{pretrained}^{fixed}$\"],\n",
    "           fontsize=14)\n",
    "plt.yticks(fontsize=14)\n",
    "plt.legend([r'$[e_i^u, e_j^v]$', r'$e_i^u \\odot e_j^v$'], loc='lower right', prop={'size': 14})\n",
    "plt.grid(color='gray', linestyle='--', linewidth=1, axis='y', which='both')\n",
    "# plt.grid(True)\n",
    "plt.show"
   ]
  },
  {
   "cell_type": "markdown",
   "metadata": {},
   "source": [
    "## Compute AUC and MAP@10 for best model configurations using `experiments.retrieve_model`"
   ]
  },
  {
   "cell_type": "markdown",
   "metadata": {},
   "source": [
    "#### Best Model Configurations"
   ]
  },
  {
   "cell_type": "code",
   "execution_count": 25,
   "metadata": {},
   "outputs": [],
   "source": [
    "mapper = {'unpretrained_trainable': 'DNN',\n",
    "          'pretrained_trainable': 'DNN_pretrained',\n",
    "          'pretrained_untrainable': 'DNN_pretrained_fixed'}\n",
    "reverse_mapper = dict(zip(mapper.values(), mapper.keys()))"
   ]
  },
  {
   "cell_type": "code",
   "execution_count": 26,
   "metadata": {},
   "outputs": [],
   "source": [
    "best_model_configs = dict().fromkeys(['concat', 'hadamard'])"
   ]
  },
  {
   "cell_type": "code",
   "execution_count": 27,
   "metadata": {},
   "outputs": [],
   "source": [
    "best_model_configs['concat'] = dict.fromkeys(mapper.values())\n",
    "best_model_configs['hadamard'] = dict.fromkeys(mapper.values())"
   ]
  },
  {
   "cell_type": "code",
   "execution_count": 28,
   "metadata": {},
   "outputs": [],
   "source": [
    "for key in ['unpretrained_trainable', 'pretrained_trainable', 'pretrained_untrainable']:\n",
    "    checkpoint = results_concat[results_concat['mode'] == key]\n",
    "    checkpoint = checkpoint.sort_values('test_mrr', ascending=False).iloc[0]\n",
    "    best_model_configs['concat'][mapper[key]] = \\\n",
    "        checkpoint[['mode', 'model', 'torch_seed', 'learning_rate', 'epoch']].to_dict()"
   ]
  },
  {
   "cell_type": "code",
   "execution_count": 29,
   "metadata": {},
   "outputs": [],
   "source": [
    "for key in ['unpretrained_trainable', 'pretrained_trainable', 'pretrained_untrainable']:\n",
    "    checkpoint = results_hadamard[results_hadamard['mode'] == key]\n",
    "    checkpoint = checkpoint.sort_values('test_mrr', ascending=False).iloc[0]\n",
    "    best_model_configs['hadamard'][mapper[key]] = \\\n",
    "        checkpoint[['mode', 'model', 'torch_seed', 'learning_rate', 'epoch']].to_dict()"
   ]
  },
  {
   "cell_type": "code",
   "execution_count": 30,
   "metadata": {
    "scrolled": false
   },
   "outputs": [
    {
     "data": {
      "text/plain": [
       "{'DNN': {'mode': 'unpretrained_trainable',\n",
       "  'model': 'double_model_sigmoid',\n",
       "  'torch_seed': 83,\n",
       "  'learning_rate': 0.001,\n",
       "  'epoch': 14},\n",
       " 'DNN_pretrained': {'mode': 'pretrained_trainable',\n",
       "  'model': 'double_model_elu',\n",
       "  'torch_seed': 147,\n",
       "  'learning_rate': 0.001,\n",
       "  'epoch': 17},\n",
       " 'DNN_pretrained_fixed': {'mode': 'pretrained_untrainable',\n",
       "  'model': 'triple_model_relu',\n",
       "  'torch_seed': 28,\n",
       "  'learning_rate': 0.001,\n",
       "  'epoch': 18}}"
      ]
     },
     "execution_count": 30,
     "metadata": {},
     "output_type": "execute_result"
    }
   ],
   "source": [
    "best_model_configs['concat']"
   ]
  },
  {
   "cell_type": "code",
   "execution_count": 31,
   "metadata": {},
   "outputs": [
    {
     "data": {
      "text/plain": [
       "{'DNN': {'mode': 'unpretrained_trainable',\n",
       "  'model': 'perceptron',\n",
       "  'torch_seed': 42,\n",
       "  'learning_rate': 0.001,\n",
       "  'epoch': 9},\n",
       " 'DNN_pretrained': {'mode': 'pretrained_trainable',\n",
       "  'model': 'perceptron',\n",
       "  'torch_seed': 147,\n",
       "  'learning_rate': 0.003,\n",
       "  'epoch': 1},\n",
       " 'DNN_pretrained_fixed': {'mode': 'pretrained_untrainable',\n",
       "  'model': 'double_model_tanh',\n",
       "  'torch_seed': 147,\n",
       "  'learning_rate': 0.003,\n",
       "  'epoch': 14}}"
      ]
     },
     "execution_count": 31,
     "metadata": {},
     "output_type": "execute_result"
    }
   ],
   "source": [
    "best_model_configs['hadamard']"
   ]
  },
  {
   "cell_type": "markdown",
   "metadata": {},
   "source": [
    "## Retrieve Best Models and compute `MAP@10` as well as `AUC`-Score"
   ]
  },
  {
   "cell_type": "code",
   "execution_count": 53,
   "metadata": {},
   "outputs": [],
   "source": [
    "k = 10"
   ]
  },
  {
   "cell_type": "code",
   "execution_count": 54,
   "metadata": {},
   "outputs": [],
   "source": [
    "model_filepaths = dict.fromkeys(['concat', 'hadamard'])\n",
    "model_filepaths['concat'] = 'results/nn_search/hadamard_FALSE_0420/models'\n",
    "model_filepaths['hadamard'] = 'results/nn_search/hadamard_TRUE_0420/models'"
   ]
  },
  {
   "cell_type": "code",
   "execution_count": 55,
   "metadata": {},
   "outputs": [],
   "source": [
    "best_model_filepath = dict().fromkeys(['concat', 'hadamard'])\n",
    "best_model_filepath['concat'] = dict.fromkeys(mapper.values())\n",
    "best_model_filepath['hadamard'] = dict.fromkeys(mapper.values())"
   ]
  },
  {
   "cell_type": "code",
   "execution_count": 56,
   "metadata": {},
   "outputs": [],
   "source": [
    "for input_type in ['concat', 'hadamard']:\n",
    "    for mode in mapper.values():\n",
    "        model_config = best_model_configs[input_type][mode]\n",
    "        for filename in os.listdir(model_filepaths[input_type]):\n",
    "            if ('_'+model_config['mode']+'_' in filename)&(str(model_config['learning_rate']) in filename):\n",
    "                best_model_filepath[input_type][mode] = os.path.join(model_filepaths[input_type],\n",
    "                                                                     filename)"
   ]
  },
  {
   "cell_type": "code",
   "execution_count": 57,
   "metadata": {},
   "outputs": [
    {
     "data": {
      "text/plain": [
       "{'concat': {'DNN': 'results/nn_search/hadamard_FALSE_0420/models/best_dnn_model_unpretrained_trainable_0.001_False.pth',\n",
       "  'DNN_pretrained': 'results/nn_search/hadamard_FALSE_0420/models/best_dnn_model_pretrained_trainable_0.001_False.pth',\n",
       "  'DNN_pretrained_fixed': 'results/nn_search/hadamard_FALSE_0420/models/best_dnn_model_pretrained_untrainable_0.001_False.pth'},\n",
       " 'hadamard': {'DNN': 'results/nn_search/hadamard_TRUE_0420/models/best_dnn_model_unpretrained_trainable_0.001_True.pth',\n",
       "  'DNN_pretrained': 'results/nn_search/hadamard_TRUE_0420/models/best_dnn_model_pretrained_trainable_0.003_True.pth',\n",
       "  'DNN_pretrained_fixed': 'results/nn_search/hadamard_TRUE_0420/models/best_dnn_model_pretrained_untrainable_0.003_True.pth'}}"
      ]
     },
     "execution_count": 57,
     "metadata": {},
     "output_type": "execute_result"
    }
   ],
   "source": [
    "best_model_filepath"
   ]
  },
  {
   "cell_type": "markdown",
   "metadata": {},
   "source": [
    "### Retrieve Data for additional score computation"
   ]
  },
  {
   "cell_type": "code",
   "execution_count": 58,
   "metadata": {},
   "outputs": [],
   "source": [
    "config = yaml.load(open('experiment_config.yml'), Loader=yaml.FullLoader)"
   ]
  },
  {
   "cell_type": "code",
   "execution_count": 59,
   "metadata": {},
   "outputs": [],
   "source": [
    "data = DataLoader().load_movielens('100k')\n",
    "data.implicit_(use_user_mean=True)\n",
    "rd_split_state = np.random.RandomState(seed=config['train_test_split_seed'])\n",
    "train_data, test_data = random_train_test_split(data,\n",
    "                                                test_percentage=config['test_percentage'],\n",
    "                                                random_state=rd_split_state)"
   ]
  },
  {
   "cell_type": "code",
   "execution_count": 60,
   "metadata": {},
   "outputs": [],
   "source": [
    "best_nn_model_no_hadamard_map = dict.fromkeys(best_model_configs['concat'].keys())\n",
    "best_nn_model_hadamard_map = dict.fromkeys(best_model_configs['hadamard'].keys())"
   ]
  },
  {
   "cell_type": "code",
   "execution_count": 61,
   "metadata": {},
   "outputs": [],
   "source": [
    "best_nn_model_no_hadamard_auc = dict.fromkeys(best_model_configs['concat'].keys())\n",
    "best_nn_model_hadamard_auc = dict.fromkeys(best_model_configs['hadamard'].keys())"
   ]
  },
  {
   "cell_type": "markdown",
   "metadata": {},
   "source": [
    "### Now as we know the best model configs and the best model parameter filepaths, we can retrieve our models and compute the respective scores"
   ]
  },
  {
   "cell_type": "markdown",
   "metadata": {},
   "source": [
    "### `concat`"
   ]
  },
  {
   "cell_type": "code",
   "execution_count": 81,
   "metadata": {},
   "outputs": [],
   "source": [
    "use_hadamard = False"
   ]
  },
  {
   "cell_type": "code",
   "execution_count": 82,
   "metadata": {},
   "outputs": [
    {
     "name": "stdout",
     "output_type": "stream",
     "text": [
      "Mode: DNN --- Hadamard: False --- MRR: 0.0369\n",
      "Mode: DNN_pretrained --- Hadamard: False --- MRR: 0.0444\n",
      "Mode: DNN_pretrained_fixed --- Hadamard: False --- MRR: 0.0449\n"
     ]
    }
   ],
   "source": [
    "for mode in best_nn_model_no_hadamard_map.keys():\n",
    "    dnn_est = retrieve_estimator(data,\n",
    "                                 use_hadamard=use_hadamard,\n",
    "                                 embedding_dim=config['embedding_dim'],\n",
    "                                 model_name=best_model_configs['concat'][mode]['model'],\n",
    "                                 model_parameters_filepath=best_model_filepath['concat'][mode])\n",
    "    print(\"Mode: {} --- Hadamard: {} --- MRR: {:.4f}\".format(mode,\n",
    "                                                             use_hadamard,\n",
    "                                                             mrr_score(dnn_est, test_data).mean()))\n",
    "    best_nn_model_no_hadamard_map[mode] = precision_recall_score(dnn_est, test_data, k=k)[0].mean()\n",
    "    best_nn_model_no_hadamard_auc[mode] = auc_score(dnn_est, test_data,\n",
    "                                                    auc_selection_seed=config['auc_selection_seed']).mean()"
   ]
  },
  {
   "cell_type": "markdown",
   "metadata": {},
   "source": [
    "### `hadamard`"
   ]
  },
  {
   "cell_type": "code",
   "execution_count": 83,
   "metadata": {},
   "outputs": [],
   "source": [
    "use_hadamard = True"
   ]
  },
  {
   "cell_type": "code",
   "execution_count": 84,
   "metadata": {},
   "outputs": [
    {
     "name": "stdout",
     "output_type": "stream",
     "text": [
      "Mode: DNN --- Hadamard: True --- MRR: 0.0445\n",
      "Mode: DNN_pretrained --- Hadamard: True --- MRR: 0.0473\n",
      "Mode: DNN_pretrained_fixed --- Hadamard: True --- MRR: 0.0449\n"
     ]
    }
   ],
   "source": [
    "for mode in best_nn_model_no_hadamard_map.keys():\n",
    "    dnn_est = retrieve_estimator(data,\n",
    "                                 use_hadamard=use_hadamard,\n",
    "                                 embedding_dim=config['embedding_dim'],\n",
    "                                 model_name=best_model_configs['hadamard'][mode]['model'],\n",
    "                                 model_parameters_filepath=best_model_filepath['hadamard'][mode])\n",
    "    print(\"Mode: {} --- Hadamard: {} --- MRR: {:.4f}\".format(mode,\n",
    "                                                             use_hadamard,\n",
    "                                                             mrr_score(dnn_est, test_data).mean()))\n",
    "    best_nn_model_hadamard_map[mode] = precision_recall_score(dnn_est, test_data, k=k)[0].mean()\n",
    "    best_nn_model_hadamard_auc[mode] = auc_score(dnn_est, test_data,\n",
    "                                                 auc_selection_seed=config['auc_selection_seed']).mean()"
   ]
  },
  {
   "cell_type": "markdown",
   "metadata": {},
   "source": [
    "### Results"
   ]
  },
  {
   "cell_type": "code",
   "execution_count": 85,
   "metadata": {},
   "outputs": [
    {
     "data": {
      "text/plain": [
       "{'DNN': 0.06275167785234899,\n",
       " 'DNN_pretrained': 0.0738255033557047,\n",
       " 'DNN_pretrained_fixed': 0.07063758389261746}"
      ]
     },
     "execution_count": 85,
     "metadata": {},
     "output_type": "execute_result"
    }
   ],
   "source": [
    "best_nn_model_no_hadamard_map"
   ]
  },
  {
   "cell_type": "code",
   "execution_count": 86,
   "metadata": {},
   "outputs": [
    {
     "data": {
      "text/plain": [
       "{'DNN': 0.07164429530201342,\n",
       " 'DNN_pretrained': 0.07533557046979866,\n",
       " 'DNN_pretrained_fixed': 0.07130872483221476}"
      ]
     },
     "execution_count": 86,
     "metadata": {},
     "output_type": "execute_result"
    }
   ],
   "source": [
    "best_nn_model_hadamard_map"
   ]
  },
  {
   "cell_type": "code",
   "execution_count": 87,
   "metadata": {},
   "outputs": [
    {
     "data": {
      "text/plain": [
       "{'DNN': 0.892029462000453,\n",
       " 'DNN_pretrained': 0.9195430902198752,\n",
       " 'DNN_pretrained_fixed': 0.9138041976615925}"
      ]
     },
     "execution_count": 87,
     "metadata": {},
     "output_type": "execute_result"
    }
   ],
   "source": [
    "best_nn_model_no_hadamard_auc"
   ]
  },
  {
   "cell_type": "code",
   "execution_count": 88,
   "metadata": {},
   "outputs": [
    {
     "data": {
      "text/plain": [
       "{'DNN': 0.915676321422413,\n",
       " 'DNN_pretrained': 0.9240985119097695,\n",
       " 'DNN_pretrained_fixed': 0.9216450226686062}"
      ]
     },
     "execution_count": 88,
     "metadata": {},
     "output_type": "execute_result"
    }
   ],
   "source": [
    "best_nn_model_hadamard_auc"
   ]
  }
 ],
 "metadata": {
  "kernelspec": {
   "display_name": "Python 3",
   "language": "python",
   "name": "python3"
  },
  "language_info": {
   "codemirror_mode": {
    "name": "ipython",
    "version": 3
   },
   "file_extension": ".py",
   "mimetype": "text/x-python",
   "name": "python",
   "nbconvert_exporter": "python",
   "pygments_lexer": "ipython3",
   "version": "3.6.7"
  }
 },
 "nbformat": 4,
 "nbformat_minor": 2
}
