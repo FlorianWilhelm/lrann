{
 "cells": [
  {
   "cell_type": "code",
   "execution_count": 102,
   "metadata": {},
   "outputs": [
    {
     "name": "stdout",
     "output_type": "stream",
     "text": [
      "The autoreload extension is already loaded. To reload it, use:\n",
      "  %reload_ext autoreload\n"
     ]
    }
   ],
   "source": [
    "import sys\n",
    "import logging\n",
    "\n",
    "import numpy as np\n",
    "import scipy as sp\n",
    "import sklearn\n",
    "import statsmodels.api as sm\n",
    "from statsmodels.formula.api import ols\n",
    "\n",
    "%load_ext autoreload\n",
    "%autoreload 2\n",
    "\n",
    "import matplotlib as mpl\n",
    "import matplotlib.pyplot as plt\n",
    "%matplotlib inline\n",
    "%config InlineBackend.figure_format = 'retina'\n",
    "\n",
    "import seaborn as sns\n",
    "sns.set_context(\"poster\")\n",
    "sns.set(rc={'figure.figsize': (16, 9.)})\n",
    "sns.set_style(\"whitegrid\")\n",
    "\n",
    "import pandas as pd\n",
    "pd.set_option(\"display.max_rows\", 120)\n",
    "pd.set_option(\"display.max_columns\", 120)\n",
    "\n",
    "logging.basicConfig(level=logging.INFO, stream=sys.stdout)"
   ]
  },
  {
   "cell_type": "code",
   "execution_count": 103,
   "metadata": {},
   "outputs": [],
   "source": [
    "import torch\n",
    "\n",
    "from lrann.datasets import DataLoader, random_train_test_split, Interactions\n",
    "from lrann.estimators import ImplicitEst, ExplicitEst\n",
    "from lrann.models import BilinearNet, DeepNet\n",
    "from lrann.evaluations import mrr_score, precision_recall_score, rmse_score\n",
    "from lrann.utils import is_cuda_available"
   ]
  },
  {
   "cell_type": "code",
   "execution_count": 104,
   "metadata": {},
   "outputs": [],
   "source": [
    "def get_latent(n_users, n_items):\n",
    "    users = np.random.uniform(-1, 1, size=n_users)\n",
    "    items = np.random.uniform(-1, 1, size=n_items)\n",
    "    return users, items\n",
    "\n",
    "def get_interactions(users, items, size):\n",
    "    \"\"\"\n",
    "    Multiply user and item latent variable and select as positive depending on the outcome\n",
    "    \"\"\"\n",
    "    runs = 0\n",
    "    while size > 0:\n",
    "        user_idx = np.random.randint(users.shape[0])\n",
    "        item_idx = np.random.randint(items.shape[0])\n",
    "        user, item = users[user_idx], items[item_idx]\n",
    "        prod = user * item\n",
    "        signum = np.sign(prod)\n",
    "        p = abs(prod)\n",
    "        r = np.random.binomial(2, p)  # flip coin two times and only accept if two times head\n",
    "        if r == 2:\n",
    "            size -= 1\n",
    "            yield (user_idx, item_idx, int(signum))\n",
    "        runs += 1\n",
    "    print(f\"Number of runs {runs}\")"
   ]
  },
  {
   "cell_type": "code",
   "execution_count": 105,
   "metadata": {},
   "outputs": [],
   "source": [
    "# generate random latent features for users and items\n",
    "users, items = get_latent(100, 2000)"
   ]
  },
  {
   "cell_type": "code",
   "execution_count": 106,
   "metadata": {},
   "outputs": [
    {
     "name": "stdout",
     "output_type": "stream",
     "text": [
      "Number of runs 197320\n"
     ]
    }
   ],
   "source": [
    "# get the interactions using the latent features of users and items\n",
    "raw = np.array(list(get_interactions(users, items, 20000)))"
   ]
  },
  {
   "cell_type": "code",
   "execution_count": 107,
   "metadata": {},
   "outputs": [],
   "source": [
    "user_ids = raw[:, 0]\n",
    "item_ids = raw[:, 1]\n",
    "ratings = raw[:, 2]\n",
    "interactions = Interactions(user_ids, item_ids, ratings, n_users=users.shape[0], n_items=items.shape[0])"
   ]
  },
  {
   "cell_type": "code",
   "execution_count": 108,
   "metadata": {},
   "outputs": [],
   "source": [
    "train, test = random_train_test_split(interactions)"
   ]
  },
  {
   "cell_type": "code",
   "execution_count": 111,
   "metadata": {},
   "outputs": [],
   "source": [
    "# Switch here between MF model and deep neural network\n",
    "nn_model = DeepNet(interactions.n_users, interactions.n_items, embedding_dim=1, sparse=False, activation=torch.sigmoid)\n",
    "lra_model = BilinearNet(interactions.n_users, interactions.n_items, embedding_dim=1, sparse=False, biases=False)"
   ]
  },
  {
   "cell_type": "code",
   "execution_count": 112,
   "metadata": {},
   "outputs": [],
   "source": [
    "lra_est = ExplicitEst(model=lra_model, n_iter=50, batch_size=128, learning_rate=1e-2)\n",
    "nn_est = ExplicitEst(model=nn_model, n_iter=50, batch_size=128, learning_rate=1e-2)"
   ]
  },
  {
   "cell_type": "code",
   "execution_count": 113,
   "metadata": {},
   "outputs": [
    {
     "name": "stdout",
     "output_type": "stream",
     "text": [
      "Epoch 0: loss 0.6947774755981324\n",
      "Epoch 1: loss 0.6922463919538033\n",
      "Epoch 2: loss 0.6855434861785604\n",
      "Epoch 3: loss 0.6722886386613851\n",
      "Epoch 4: loss 0.6599923098967442\n",
      "Epoch 5: loss 0.624903425195586\n",
      "Epoch 6: loss 0.560733764457881\n",
      "Epoch 7: loss 0.5208981120447681\n",
      "Epoch 8: loss 0.5006947540801504\n",
      "Epoch 9: loss 0.4914328445417202\n",
      "Epoch 10: loss 0.4860767373586982\n",
      "Epoch 11: loss 0.48355621634625945\n",
      "Epoch 12: loss 0.48181525095657496\n",
      "Epoch 13: loss 0.4810477784462435\n",
      "Epoch 14: loss 0.4801130995691393\n",
      "Epoch 15: loss 0.4789100445048245\n",
      "Epoch 16: loss 0.47805104399726267\n",
      "Epoch 17: loss 0.4773739681688852\n",
      "Epoch 18: loss 0.4769845797971727\n",
      "Epoch 19: loss 0.47686072881990355\n",
      "Epoch 20: loss 0.476827058758232\n",
      "Epoch 21: loss 0.47657457849846896\n",
      "Epoch 22: loss 0.4765679371958176\n",
      "Epoch 23: loss 0.4766288414578053\n",
      "Epoch 24: loss 0.47647129085266254\n",
      "Epoch 25: loss 0.47662735692016095\n",
      "Epoch 26: loss 0.47641312599900015\n",
      "Epoch 27: loss 0.47643526609647546\n",
      "Epoch 28: loss 0.4762992487455724\n",
      "Epoch 29: loss 0.4762303279898619\n",
      "Epoch 30: loss 0.47621921545719503\n",
      "Epoch 31: loss 0.4761011569322417\n",
      "Epoch 32: loss 0.47636791950279467\n",
      "Epoch 33: loss 0.47612084278449635\n",
      "Epoch 34: loss 0.475996938559329\n",
      "Epoch 35: loss 0.47620808426392525\n",
      "Epoch 36: loss 0.47604698376934806\n",
      "Epoch 37: loss 0.47596317351219114\n",
      "Epoch 38: loss 0.47576701401687194\n",
      "Epoch 39: loss 0.4758129471076172\n",
      "Epoch 40: loss 0.4757682040944097\n",
      "Epoch 41: loss 0.4757336179778014\n",
      "Epoch 42: loss 0.475657076174556\n",
      "Epoch 43: loss 0.4757155483780409\n",
      "Epoch 44: loss 0.4755600323195248\n",
      "Epoch 45: loss 0.4756107983516513\n",
      "Epoch 46: loss 0.47574539532150095\n",
      "Epoch 47: loss 0.47553619829564137\n",
      "Epoch 48: loss 0.47523461054211874\n",
      "Epoch 49: loss 0.4751116106625466\n"
     ]
    }
   ],
   "source": [
    "nn_est.fit(train, verbose=True)"
   ]
  },
  {
   "cell_type": "code",
   "execution_count": 85,
   "metadata": {},
   "outputs": [
    {
     "name": "stdout",
     "output_type": "stream",
     "text": [
      "Epoch 0: loss 0.7608586030714338\n",
      "Epoch 1: loss 0.7091694725261544\n",
      "Epoch 2: loss 0.6784868082392363\n",
      "Epoch 3: loss 0.6203073064435938\n",
      "Epoch 4: loss 0.48330450981322176\n",
      "Epoch 5: loss 0.29723157076525075\n",
      "Epoch 6: loss 0.15999313538801427\n",
      "Epoch 7: loss 0.08811275183832747\n",
      "Epoch 8: loss 0.05248033852791808\n",
      "Epoch 9: loss 0.033841191302825036\n",
      "Epoch 10: loss 0.0233135456945501\n",
      "Epoch 11: loss 0.01685581814844717\n",
      "Epoch 12: loss 0.012649136715430826\n",
      "Epoch 13: loss 0.0097808331673591\n",
      "Epoch 14: loss 0.007733471781275093\n",
      "Epoch 15: loss 0.006226185972047261\n",
      "Epoch 16: loss 0.005088296016271556\n",
      "Epoch 17: loss 0.0042114117318469615\n",
      "Epoch 18: loss 0.0035241378490211968\n",
      "Epoch 19: loss 0.0029784079931282105\n",
      "Epoch 20: loss 0.002540380587982205\n",
      "Epoch 21: loss 0.002184245476079342\n",
      "Epoch 22: loss 0.0018904150384573546\n",
      "Epoch 23: loss 0.00164746427344192\n",
      "Epoch 24: loss 0.0014441051354210303\n",
      "Epoch 25: loss 0.001272951538578634\n",
      "Epoch 26: loss 0.0011266847544082945\n",
      "Epoch 27: loss 0.0010018706035706314\n",
      "Epoch 28: loss 0.0008942396189692156\n",
      "Epoch 29: loss 0.000800422649545612\n",
      "Epoch 30: loss 0.0007191058493652657\n",
      "Epoch 31: loss 0.0006476802721331454\n",
      "Epoch 32: loss 0.0005847342980714469\n",
      "Epoch 33: loss 0.0005292239465090838\n",
      "Epoch 34: loss 0.0004798414705709064\n",
      "Epoch 35: loss 0.0004360041935968874\n",
      "Epoch 36: loss 0.00039683712434133766\n",
      "Epoch 37: loss 0.000361822628972393\n",
      "Epoch 38: loss 0.0003302894852589187\n",
      "Epoch 39: loss 0.0003020736942126631\n",
      "Epoch 40: loss 0.0002765501095961143\n",
      "Epoch 41: loss 0.0002534864494725565\n",
      "Epoch 42: loss 0.00023255694576583305\n",
      "Epoch 43: loss 0.00021361132966895007\n",
      "Epoch 44: loss 0.00019640324159231264\n",
      "Epoch 45: loss 0.00018071641769952008\n",
      "Epoch 46: loss 0.00016641020419235706\n",
      "Epoch 47: loss 0.00015338531670709173\n",
      "Epoch 48: loss 0.00014143401639288682\n",
      "Epoch 49: loss 0.00013055038035396024\n"
     ]
    }
   ],
   "source": [
    "lra_est.fit(train, verbose=True)"
   ]
  },
  {
   "cell_type": "code",
   "execution_count": 86,
   "metadata": {},
   "outputs": [
    {
     "data": {
      "text/plain": [
       "2.3900706e-05"
      ]
     },
     "execution_count": 86,
     "metadata": {},
     "output_type": "execute_result"
    }
   ],
   "source": [
    "np.min(nn_est.predict(3))"
   ]
  },
  {
   "cell_type": "code",
   "execution_count": 87,
   "metadata": {},
   "outputs": [
    {
     "data": {
      "text/plain": [
       "(0.008392262378638134, 0.08265019373064733)"
      ]
     },
     "execution_count": 87,
     "metadata": {},
     "output_type": "execute_result"
    }
   ],
   "source": [
    "rmse_score(nn_est, train), rmse_score(nn_est, test)"
   ]
  },
  {
   "cell_type": "code",
   "execution_count": 88,
   "metadata": {},
   "outputs": [
    {
     "data": {
      "text/plain": [
       "(0.0003582965959585957, 0.07778868741917662)"
      ]
     },
     "execution_count": 88,
     "metadata": {},
     "output_type": "execute_result"
    }
   ],
   "source": [
    "rmse_score(lra_est, train), rmse_score(lra_est, test)"
   ]
  },
  {
   "cell_type": "code",
   "execution_count": 101,
   "metadata": {},
   "outputs": [
    {
     "data": {
      "text/plain": [
       "array([ 0.,  0.,  0.,  0.,  0.,  0.,  0.,  0.,  0.,  0.,  0.,  0.,  0.,\n",
       "        0.,  0.,  0.,  0.,  2., -2.,  0.,  0., -2.,  0.,  0.,  0.,  0.,\n",
       "        0.,  0.,  0.,  0.,  0.,  2.,  2.,  0.,  2.,  0.,  0.,  0.,  0.,\n",
       "        0.,  0.,  0.,  0.,  0.,  0.,  0.,  0.,  2.,  0.,  2.,  0.,  0.,\n",
       "        0.,  0.,  0.,  0.,  2.,  0.,  0.,  0.,  2.,  0.,  0.,  0.,  0.,\n",
       "        0.,  0.,  0.,  0.,  0.,  0.,  0.,  0.,  0.,  0.,  0.,  0.,  2.,\n",
       "        0.,  2.,  0.,  0.,  0.,  0.,  0.,  0.,  0.,  0.,  0.,  0.,  0.,\n",
       "        2.,  0.,  0.,  0.,  0.,  0.,  0.,  0.,  0.])"
      ]
     },
     "execution_count": 101,
     "metadata": {},
     "output_type": "execute_result"
    }
   ],
   "source": [
    "np.sign(-users) - np.sign(nn_model.user_embeddings.weight.detach().numpy().flatten())"
   ]
  },
  {
   "cell_type": "code",
   "execution_count": 90,
   "metadata": {},
   "outputs": [
    {
     "data": {
      "text/plain": [
       "Parameter containing:\n",
       "tensor([[-3.3687],\n",
       "        [-4.3450],\n",
       "        [ 3.6985],\n",
       "        [-3.3264],\n",
       "        [-4.1404],\n",
       "        [-3.8634],\n",
       "        [-2.0612],\n",
       "        [-4.1487],\n",
       "        [ 4.0532],\n",
       "        [-4.2517],\n",
       "        [-3.2820],\n",
       "        [ 4.1630],\n",
       "        [ 3.6715],\n",
       "        [-4.2080],\n",
       "        [-4.3776],\n",
       "        [ 3.2657],\n",
       "        [-3.2119],\n",
       "        [ 4.1774],\n",
       "        [ 0.6590],\n",
       "        [-3.9009],\n",
       "        [-4.0437],\n",
       "        [-2.7811],\n",
       "        [ 3.9576],\n",
       "        [ 4.0030],\n",
       "        [-3.3528],\n",
       "        [ 4.0974],\n",
       "        [ 2.0056],\n",
       "        [-4.0730],\n",
       "        [-3.7225],\n",
       "        [ 3.9802],\n",
       "        [-4.0895],\n",
       "        [ 3.3490],\n",
       "        [ 2.8927],\n",
       "        [-4.2397],\n",
       "        [ 2.3696],\n",
       "        [ 4.0655],\n",
       "        [ 4.0230],\n",
       "        [-4.2375],\n",
       "        [-3.2643],\n",
       "        [ 4.3706],\n",
       "        [ 4.0434],\n",
       "        [ 3.0078],\n",
       "        [ 2.9739],\n",
       "        [ 3.1208],\n",
       "        [ 1.3883],\n",
       "        [ 3.9635],\n",
       "        [-4.0353],\n",
       "        [ 4.0761],\n",
       "        [-3.8637],\n",
       "        [ 3.6994],\n",
       "        [ 3.3272],\n",
       "        [-4.1006],\n",
       "        [-3.9466],\n",
       "        [-1.0820],\n",
       "        [-3.4961],\n",
       "        [ 4.0643],\n",
       "        [ 3.6767],\n",
       "        [-3.9474],\n",
       "        [ 3.8179],\n",
       "        [-4.2461],\n",
       "        [-0.1017],\n",
       "        [ 4.3305],\n",
       "        [ 3.7293],\n",
       "        [ 3.2945],\n",
       "        [-3.8236],\n",
       "        [-3.3120],\n",
       "        [-3.9828],\n",
       "        [-4.0635],\n",
       "        [-4.3270],\n",
       "        [ 3.9986],\n",
       "        [ 4.0075],\n",
       "        [-3.2317],\n",
       "        [-4.0181],\n",
       "        [ 4.2245],\n",
       "        [-4.3769],\n",
       "        [ 4.0284],\n",
       "        [ 3.5480],\n",
       "        [ 3.0224],\n",
       "        [-3.3152],\n",
       "        [ 0.3225],\n",
       "        [ 4.1080],\n",
       "        [ 3.6001],\n",
       "        [-4.1923],\n",
       "        [-3.6725],\n",
       "        [ 4.0739],\n",
       "        [ 4.2699],\n",
       "        [-4.3132],\n",
       "        [ 2.9148],\n",
       "        [-4.2747],\n",
       "        [ 4.2060],\n",
       "        [ 3.4195],\n",
       "        [ 3.7359],\n",
       "        [-4.0844],\n",
       "        [ 3.8907],\n",
       "        [ 2.9117],\n",
       "        [ 3.6716],\n",
       "        [ 3.5773],\n",
       "        [-3.7766],\n",
       "        [-3.3419],\n",
       "        [-2.7547]], requires_grad=True)"
      ]
     },
     "execution_count": 90,
     "metadata": {},
     "output_type": "execute_result"
    }
   ],
   "source": []
  },
  {
   "cell_type": "code",
   "execution_count": null,
   "metadata": {},
   "outputs": [],
   "source": []
  }
 ],
 "metadata": {
  "kernelspec": {
   "display_name": "Python 3",
   "language": "python",
   "name": "python3"
  },
  "language_info": {
   "codemirror_mode": {
    "name": "ipython",
    "version": 3
   },
   "file_extension": ".py",
   "mimetype": "text/x-python",
   "name": "python",
   "nbconvert_exporter": "python",
   "pygments_lexer": "ipython3",
   "version": "3.6.7"
  }
 },
 "nbformat": 4,
 "nbformat_minor": 2
}
