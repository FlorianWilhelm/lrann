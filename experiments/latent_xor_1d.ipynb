{
 "cells": [
  {
   "cell_type": "code",
   "execution_count": 1,
   "metadata": {},
   "outputs": [],
   "source": [
    "import sys\n",
    "import logging\n",
    "\n",
    "import numpy as np\n",
    "import scipy as sp\n",
    "import sklearn\n",
    "import statsmodels.api as sm\n",
    "from statsmodels.formula.api import ols\n",
    "\n",
    "%load_ext autoreload\n",
    "%autoreload 2\n",
    "\n",
    "import matplotlib as mpl\n",
    "import matplotlib.pyplot as plt\n",
    "%matplotlib inline\n",
    "%config InlineBackend.figure_format = 'retina'\n",
    "\n",
    "import seaborn as sns\n",
    "sns.set_context(\"poster\")\n",
    "sns.set(rc={'figure.figsize': (16, 9.)})\n",
    "sns.set_style(\"whitegrid\")\n",
    "\n",
    "import pandas as pd\n",
    "pd.set_option(\"display.max_rows\", 120)\n",
    "pd.set_option(\"display.max_columns\", 120)\n",
    "\n",
    "logging.basicConfig(level=logging.INFO, stream=sys.stdout)"
   ]
  },
  {
   "cell_type": "code",
   "execution_count": 2,
   "metadata": {},
   "outputs": [],
   "source": [
    "from lrann.datasets import DataLoader, random_train_test_split, Interactions\n",
    "from lrann.estimators import ImplicitEst, ExplicitEst\n",
    "from lrann.models import BilinearNet, DeepNet\n",
    "from lrann.evaluations import mrr_score, precision_recall_score, rmse_score\n",
    "from lrann.utils import is_cuda_available"
   ]
  },
  {
   "cell_type": "code",
   "execution_count": 3,
   "metadata": {},
   "outputs": [],
   "source": [
    "def get_latent(n_users, n_items):\n",
    "    users = np.random.uniform(-1, 1, size=n_users)\n",
    "    items = np.random.uniform(-1, 1, size=n_items)\n",
    "    return users, items\n",
    "\n",
    "def get_interactions(users, items, size):\n",
    "    \"\"\"\n",
    "    Multiply user and item latent variable and select as positive depending on the outcome\n",
    "    \"\"\"\n",
    "    runs = 0\n",
    "    while size > 0:\n",
    "        user_idx = np.random.randint(users.shape[0])\n",
    "        item_idx = np.random.randint(items.shape[0])\n",
    "        user, item = users[user_idx], items[item_idx]\n",
    "        prod = user * item\n",
    "        signum = np.sign(prod)\n",
    "        p = abs(prod)\n",
    "        r = np.random.binomial(2, p)  # flip coin two times and only accept if two times head\n",
    "        if r == 2:\n",
    "            size -= 1\n",
    "            yield (user_idx, item_idx, int(signum))\n",
    "        runs += 1\n",
    "    print(f\"Number of runs {runs}\")"
   ]
  },
  {
   "cell_type": "code",
   "execution_count": 4,
   "metadata": {},
   "outputs": [],
   "source": [
    "# generate random latent features for users and items\n",
    "users, items = get_latent(100, 2000)"
   ]
  },
  {
   "cell_type": "code",
   "execution_count": 5,
   "metadata": {},
   "outputs": [
    {
     "name": "stdout",
     "output_type": "stream",
     "text": [
      "Number of runs 172584\n"
     ]
    }
   ],
   "source": [
    "# get the interactions using the latent features of users and items\n",
    "raw = np.array(list(get_interactions(users, items, 20000)))"
   ]
  },
  {
   "cell_type": "code",
   "execution_count": 6,
   "metadata": {},
   "outputs": [],
   "source": [
    "user_ids = raw[:, 0]\n",
    "item_ids = raw[:, 1]\n",
    "ratings = raw[:, 2]\n",
    "interactions = Interactions(user_ids, item_ids, ratings, n_users=users.shape[0], n_items=items.shape[0])"
   ]
  },
  {
   "cell_type": "code",
   "execution_count": 7,
   "metadata": {},
   "outputs": [],
   "source": [
    "train, test = random_train_test_split(interactions)"
   ]
  },
  {
   "cell_type": "code",
   "execution_count": 21,
   "metadata": {},
   "outputs": [],
   "source": [
    "# Switch here between MF model and deep neural network\n",
    "nn_model = DeepNet(interactions.n_users, interactions.n_items, embedding_dim=1, sparse=False)\n",
    "lra_model = BilinearNet(interactions.n_users, interactions.n_items, embedding_dim=1, sparse=False, biases=False)"
   ]
  },
  {
   "cell_type": "code",
   "execution_count": 22,
   "metadata": {},
   "outputs": [],
   "source": [
    "lra_est = ExplicitEst(model=lra_model, n_iter=50, batch_size=128, learning_rate=1e-2)\n",
    "nn_est = ExplicitEst(model=nn_model, n_iter=50, batch_size=128, learning_rate=1e-2)"
   ]
  },
  {
   "cell_type": "code",
   "execution_count": 28,
   "metadata": {},
   "outputs": [
    {
     "name": "stdout",
     "output_type": "stream",
     "text": [
      "Epoch 0: loss 0.6937191733449859\n",
      "Epoch 1: loss 0.6931403354347341\n",
      "Epoch 2: loss 0.6903143634630522\n",
      "Epoch 3: loss 0.6796162547015587\n",
      "Epoch 4: loss 0.6583952123242752\n",
      "Epoch 5: loss 0.5979939207796298\n",
      "Epoch 6: loss 0.49372415027000094\n",
      "Epoch 7: loss 0.44022152910980394\n",
      "Epoch 8: loss 0.423910367478029\n",
      "Epoch 9: loss 0.4173782830680882\n",
      "Epoch 10: loss 0.41522980651351515\n",
      "Epoch 11: loss 0.4139682404366124\n",
      "Epoch 12: loss 0.4123608971808707\n",
      "Epoch 13: loss 0.411168341129938\n",
      "Epoch 14: loss 0.41101972697632855\n",
      "Epoch 15: loss 0.4106381721436383\n",
      "Epoch 16: loss 0.4106466336155904\n",
      "Epoch 17: loss 0.4101009009285152\n",
      "Epoch 18: loss 0.4103242458441001\n",
      "Epoch 19: loss 0.40998622948822416\n",
      "Epoch 20: loss 0.40994272844374774\n",
      "Epoch 21: loss 0.4096847226539813\n",
      "Epoch 22: loss 0.409785906338879\n",
      "Epoch 23: loss 0.4094543050542525\n",
      "Epoch 24: loss 0.40936850486811543\n",
      "Epoch 25: loss 0.4093947166107063\n",
      "Epoch 26: loss 0.4096454429835382\n",
      "Epoch 27: loss 0.40941295644888537\n",
      "Epoch 28: loss 0.4093477903159934\n",
      "Epoch 29: loss 0.4091916112253877\n",
      "Epoch 30: loss 0.4096269242223304\n",
      "Epoch 31: loss 0.4092972115324454\n",
      "Epoch 32: loss 0.4091177434493398\n",
      "Epoch 33: loss 0.40914099769204076\n",
      "Epoch 34: loss 0.4093334473350057\n",
      "Epoch 35: loss 0.4092824954318541\n",
      "Epoch 36: loss 0.4092851608457815\n",
      "Epoch 37: loss 0.40930944838211886\n",
      "Epoch 38: loss 0.40928138627556493\n",
      "Epoch 39: loss 0.40893023816430807\n",
      "Epoch 40: loss 0.4086741825161039\n",
      "Epoch 41: loss 0.4091312927481208\n",
      "Epoch 42: loss 0.4087935904630592\n",
      "Epoch 43: loss 0.4089417370983599\n",
      "Epoch 44: loss 0.40893921916961473\n",
      "Epoch 45: loss 0.40881893661468344\n",
      "Epoch 46: loss 0.40895422977184365\n",
      "Epoch 47: loss 0.40891811876599227\n",
      "Epoch 48: loss 0.4088546608065941\n",
      "Epoch 49: loss 0.40884070554301016\n"
     ]
    }
   ],
   "source": [
    "nn_est.fit(train, verbose=True)"
   ]
  },
  {
   "cell_type": "code",
   "execution_count": 31,
   "metadata": {},
   "outputs": [
    {
     "name": "stdout",
     "output_type": "stream",
     "text": [
      "Epoch 0: loss 0.7481511261183831\n",
      "Epoch 1: loss 0.7025895122811333\n",
      "Epoch 2: loss 0.6752965076987377\n",
      "Epoch 3: loss 0.6100735373255861\n",
      "Epoch 4: loss 0.4498917243804452\n",
      "Epoch 5: loss 0.2549127092810166\n",
      "Epoch 6: loss 0.13190072713813847\n",
      "Epoch 7: loss 0.07302602569501235\n",
      "Epoch 8: loss 0.04449255903981173\n",
      "Epoch 9: loss 0.029377573165956686\n",
      "Epoch 10: loss 0.020615203848145663\n",
      "Epoch 11: loss 0.015100890913736916\n",
      "Epoch 12: loss 0.011464038147112002\n",
      "Epoch 13: loss 0.00892713605927714\n",
      "Epoch 14: loss 0.007100602586858955\n",
      "Epoch 15: loss 0.00574458083025163\n",
      "Epoch 16: loss 0.004711666581048681\n",
      "Epoch 17: loss 0.003913603296113405\n",
      "Epoch 18: loss 0.003285804166448936\n",
      "Epoch 19: loss 0.002783036358305369\n",
      "Epoch 20: loss 0.0023795926318499966\n",
      "Epoch 21: loss 0.002049676205309553\n",
      "Epoch 22: loss 0.0017781552498140612\n",
      "Epoch 23: loss 0.0015528977902437046\n",
      "Epoch 24: loss 0.0013621367829789862\n",
      "Epoch 25: loss 0.0012009408844244657\n",
      "Epoch 26: loss 0.0010643546886146289\n",
      "Epoch 27: loss 0.0009472047355020078\n",
      "Epoch 28: loss 0.000845650132889519\n",
      "Epoch 29: loss 0.0007578267481489932\n",
      "Epoch 30: loss 0.0006809580498941156\n",
      "Epoch 31: loss 0.0006135528451112508\n",
      "Epoch 32: loss 0.0005542696218047249\n",
      "Epoch 33: loss 0.0005016575240381543\n",
      "Epoch 34: loss 0.00045514389388647697\n",
      "Epoch 35: loss 0.00041361542121539643\n",
      "Epoch 36: loss 0.00037658262188795507\n",
      "Epoch 37: loss 0.0003434180749142603\n",
      "Epoch 38: loss 0.0003136360421488097\n",
      "Epoch 39: loss 0.0002868227792173607\n",
      "Epoch 40: loss 0.0002626566920944186\n",
      "Epoch 41: loss 0.00024076754950699218\n",
      "Epoch 42: loss 0.00022097227332641835\n",
      "Epoch 43: loss 0.00020298922728731862\n",
      "Epoch 44: loss 0.00018663912087980958\n",
      "Epoch 45: loss 0.000171786948888231\n",
      "Epoch 46: loss 0.00015819355712224013\n",
      "Epoch 47: loss 0.0001458288463153219\n",
      "Epoch 48: loss 0.000134507877426448\n",
      "Epoch 49: loss 0.0001241535205736747\n"
     ]
    }
   ],
   "source": [
    "lra_est.fit(train, verbose=True)"
   ]
  },
  {
   "cell_type": "code",
   "execution_count": 36,
   "metadata": {},
   "outputs": [
    {
     "data": {
      "text/plain": [
       "(0.3605006926248949, 0.40157441027992025)"
      ]
     },
     "execution_count": 36,
     "metadata": {},
     "output_type": "execute_result"
    }
   ],
   "source": [
    "rmse_score(nn_est, train), rmse_score(nn_est, test)"
   ]
  },
  {
   "cell_type": "code",
   "execution_count": 35,
   "metadata": {},
   "outputs": [
    {
     "data": {
      "text/plain": [
       "(0.00037134401082285673, 0.06408689542038146)"
      ]
     },
     "execution_count": 35,
     "metadata": {},
     "output_type": "execute_result"
    }
   ],
   "source": [
    "rmse_score(lra_est, train), rmse_score(lra_est, test)"
   ]
  },
  {
   "cell_type": "code",
   "execution_count": null,
   "metadata": {},
   "outputs": [],
   "source": []
  }
 ],
 "metadata": {
  "kernelspec": {
   "display_name": "Python 3",
   "language": "python",
   "name": "python3"
  },
  "language_info": {
   "codemirror_mode": {
    "name": "ipython",
    "version": 3
   },
   "file_extension": ".py",
   "mimetype": "text/x-python",
   "name": "python",
   "nbconvert_exporter": "python",
   "pygments_lexer": "ipython3",
   "version": "3.6.7"
  }
 },
 "nbformat": 4,
 "nbformat_minor": 2
}
