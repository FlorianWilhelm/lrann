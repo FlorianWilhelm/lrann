{
 "cells": [
  {
   "cell_type": "code",
   "execution_count": 1,
   "metadata": {},
   "outputs": [],
   "source": [
    "%load_ext autoreload\n",
    "%autoreload 2"
   ]
  },
  {
   "cell_type": "code",
   "execution_count": 2,
   "metadata": {},
   "outputs": [],
   "source": [
    "import time"
   ]
  },
  {
   "cell_type": "code",
   "execution_count": 3,
   "metadata": {},
   "outputs": [],
   "source": [
    "import matplotlib.pyplot as plt\n",
    "import numpy as np\n",
    "import pandas as pd\n",
    "import yaml"
   ]
  },
  {
   "cell_type": "code",
   "execution_count": 4,
   "metadata": {},
   "outputs": [],
   "source": [
    "from lrann.datasets import DataLoader, random_train_test_split\n",
    "from lrann.estimators import ImplicitEst, ExplicitEst\n",
    "from lrann.models import BilinearNet\n",
    "from lrann.utils import is_cuda_available\n",
    "from lrann.evaluations import mrr_score, precision_recall_score"
   ]
  },
  {
   "cell_type": "markdown",
   "metadata": {},
   "source": [
    "## Config"
   ]
  },
  {
   "cell_type": "code",
   "execution_count": 5,
   "metadata": {
    "scrolled": true
   },
   "outputs": [
    {
     "name": "stderr",
     "output_type": "stream",
     "text": [
      "/anaconda3/envs/lrann/lib/python3.6/site-packages/ipykernel_launcher.py:1: YAMLLoadWarning: calling yaml.load() without Loader=... is deprecated, as the default Loader is unsafe. Please read https://msg.pyyaml.org/load for full details.\n",
      "  \"\"\"Entry point for launching an IPython kernel.\n"
     ]
    }
   ],
   "source": [
    "config = yaml.load(open('experiment_config.yml', 'r'))"
   ]
  },
  {
   "cell_type": "code",
   "execution_count": 6,
   "metadata": {},
   "outputs": [
    {
     "data": {
      "text/plain": [
       "{'train_test_split_seed': 42,\n",
       " 'torch_init_seed': 42,\n",
       " 'estimator_init_seed': 42,\n",
       " 'test_percentage': 0.2,\n",
       " 'embedding_dim': 32,\n",
       " 'mf_grid_search': {'torch_init_seed': [42, 147, 17, 28, 83],\n",
       "  'l2': [0.0, 0.003, 0.01, 0.03],\n",
       "  'learning_rate': [0.003, 0.01, 0.03],\n",
       "  'n_epochs': 20,\n",
       "  'eval_prec_k': [1, 5, 10]}}"
      ]
     },
     "execution_count": 6,
     "metadata": {},
     "output_type": "execute_result"
    }
   ],
   "source": [
    "config"
   ]
  },
  {
   "cell_type": "markdown",
   "metadata": {},
   "source": [
    "## Data"
   ]
  },
  {
   "cell_type": "code",
   "execution_count": 7,
   "metadata": {},
   "outputs": [],
   "source": [
    "data = DataLoader().load_movielens('100k')\n",
    "data.binarize_(use_user_mean=True)"
   ]
  },
  {
   "cell_type": "code",
   "execution_count": 8,
   "metadata": {},
   "outputs": [
    {
     "data": {
      "text/plain": [
       " 1.0    54732\n",
       "-1.0    46104\n",
       "dtype: int64"
      ]
     },
     "execution_count": 8,
     "metadata": {},
     "output_type": "execute_result"
    }
   ],
   "source": [
    "pd.Series(data.ratings).value_counts(normalize=False)"
   ]
  },
  {
   "cell_type": "code",
   "execution_count": 9,
   "metadata": {},
   "outputs": [],
   "source": [
    "train_data, test_data = random_train_test_split(data, test_percentage=config['test_percentage'],\n",
    "                                                random_state=np.random.RandomState(seed=config['train_test_split_seed']))"
   ]
  },
  {
   "cell_type": "code",
   "execution_count": 10,
   "metadata": {},
   "outputs": [
    {
     "data": {
      "text/plain": [
       "<Interactions dataset (610 users x 9724 items x 80668 interactions)>"
      ]
     },
     "execution_count": 10,
     "metadata": {},
     "output_type": "execute_result"
    }
   ],
   "source": [
    "train_data"
   ]
  },
  {
   "cell_type": "code",
   "execution_count": 11,
   "metadata": {},
   "outputs": [
    {
     "data": {
      "text/plain": [
       "<Interactions dataset (610 users x 9724 items x 20168 interactions)>"
      ]
     },
     "execution_count": 11,
     "metadata": {},
     "output_type": "execute_result"
    }
   ],
   "source": [
    "test_data"
   ]
  },
  {
   "cell_type": "markdown",
   "metadata": {},
   "source": [
    "## Model"
   ]
  },
  {
   "cell_type": "code",
   "execution_count": null,
   "metadata": {},
   "outputs": [],
   "source": [
    "mf_model = BilinearNet(data.n_users, data.n_items,\n",
    "                       embedding_dim=config['embedding_dim'],\n",
    "                       torch_seed=config['torch_init_seed'])"
   ]
  },
  {
   "cell_type": "code",
   "execution_count": null,
   "metadata": {},
   "outputs": [],
   "source": [
    "mf_est = ImplicitEst(model=mf_model, \n",
    "                     n_iter=1, \n",
    "                     use_cuda=is_cuda_available(),\n",
    "                     random_state=np.random.RandomState(seed=config['estimator_init_seed']))"
   ]
  },
  {
   "cell_type": "code",
   "execution_count": null,
   "metadata": {},
   "outputs": [],
   "source": [
    "mf_est.fit(train_data, verbose=True)"
   ]
  },
  {
   "cell_type": "markdown",
   "metadata": {},
   "source": [
    "## Hyperparameter Optimization\n",
    "\n",
    "Optimizing the MF hyperparameters to obtain a competitive baseline to beat by NN\n",
    "\n",
    "5 random seeds x 4 regularizations x 3 learning rates x 20 epochs = 1200 steps and evaluations"
   ]
  },
  {
   "cell_type": "code",
   "execution_count": 12,
   "metadata": {},
   "outputs": [],
   "source": [
    "grid_hyperparams = config['mf_grid_search']"
   ]
  },
  {
   "cell_type": "code",
   "execution_count": 13,
   "metadata": {},
   "outputs": [
    {
     "data": {
      "text/plain": [
       "{'torch_init_seed': [42, 147, 17, 28, 83],\n",
       " 'l2': [0.0, 0.003, 0.01, 0.03],\n",
       " 'learning_rate': [0.003, 0.01, 0.03],\n",
       " 'n_epochs': 20,\n",
       " 'eval_prec_k': [1, 5, 10]}"
      ]
     },
     "execution_count": 13,
     "metadata": {},
     "output_type": "execute_result"
    }
   ],
   "source": [
    "grid_hyperparams"
   ]
  },
  {
   "cell_type": "code",
   "execution_count": null,
   "metadata": {},
   "outputs": [],
   "source": [
    "# Computation spread across multiple notebooks separating by `torch_init_seed`\n",
    "results = []\n",
    "counter = 0\n",
    "\n",
    "for torch_init_seed in grid_hyperparams['torch_init_seed']:\n",
    "    for learning_rate in grid_hyperparams['learning_rate']:\n",
    "        for l2 in grid_hyperparams['l2']:\n",
    "            \n",
    "            mf_model = BilinearNet(data.n_users, data.n_items,\n",
    "                                   embedding_dim=config['embedding_dim'],\n",
    "                                   torch_seed=torch_init_seed)\n",
    "            \n",
    "            mf_est = ImplicitEst(model=mf_model, \n",
    "                                 n_iter=1, \n",
    "                                 use_cuda=is_cuda_available(),\n",
    "                                 random_state=np.random.RandomState(seed=config['estimator_init_seed']),\n",
    "                                 l2=l2,\n",
    "                                 learning_rate=learning_rate)\n",
    "            \n",
    "            for epoch in range(grid_hyperparams['n_epochs']):\n",
    "                \n",
    "                start = time.time()\n",
    "                \n",
    "                mf_est.fit(train_data, verbose=False)\n",
    "                \n",
    "                # Evaluation\n",
    "                mrr = mrr_score(mf_est, test_data).mean()\n",
    "                prec_at_1 = precision_recall_score(mf_est, test_data, k=1)[0].mean()\n",
    "                prec_at_5 = precision_recall_score(mf_est, test_data, k=5)[0].mean()\n",
    "                prec_at_10 = precision_recall_score(mf_est, test_data, k=10)[0].mean()\n",
    "                \n",
    "                res = (torch_init_seed,\n",
    "                       learning_rate,\n",
    "                       l2,\n",
    "                       epoch,\n",
    "                       mrr,\n",
    "                       prec_at_1,\n",
    "                       prec_at_5,\n",
    "                       prec_at_10)\n",
    "                \n",
    "                results.append(res)\n",
    "                \n",
    "                duration = int(time.time() - start)\n",
    "                counter += 1\n",
    "                \n",
    "                print(\"Experiment {:04d}/240 took {} seconds\".format(counter, duration))"
   ]
  },
  {
   "cell_type": "code",
   "execution_count": 17,
   "metadata": {},
   "outputs": [],
   "source": [
    "results_df = pd.DataFrame(results, columns=['torch_init_seed',\n",
    "                                            'learning_rate',\n",
    "                                            'l2',\n",
    "                                            'epoch',\n",
    "                                            'mrr',\n",
    "                                            'prec_at_1',\n",
    "                                            'prec_at_5',\n",
    "                                            'prec_at_10'])"
   ]
  },
  {
   "cell_type": "code",
   "execution_count": 51,
   "metadata": {},
   "outputs": [],
   "source": [
    "results_df.to_csv('bilinear_net_mf_hyperparam_opt_res.csv', index=False)"
   ]
  },
  {
   "cell_type": "code",
   "execution_count": 53,
   "metadata": {},
   "outputs": [],
   "source": [
    "results_df = pd.read_csv('bilinear_net_mf_hyperparam_opt_res.csv')"
   ]
  },
  {
   "cell_type": "markdown",
   "metadata": {},
   "source": [
    "## Select the best configuration"
   ]
  },
  {
   "cell_type": "code",
   "execution_count": 54,
   "metadata": {},
   "outputs": [
    {
     "data": {
      "text/html": [
       "<div>\n",
       "<style scoped>\n",
       "    .dataframe tbody tr th:only-of-type {\n",
       "        vertical-align: middle;\n",
       "    }\n",
       "\n",
       "    .dataframe tbody tr th {\n",
       "        vertical-align: top;\n",
       "    }\n",
       "\n",
       "    .dataframe thead th {\n",
       "        text-align: right;\n",
       "    }\n",
       "</style>\n",
       "<table border=\"1\" class=\"dataframe\">\n",
       "  <thead>\n",
       "    <tr style=\"text-align: right;\">\n",
       "      <th></th>\n",
       "      <th>torch_init_seed</th>\n",
       "      <th>learning_rate</th>\n",
       "      <th>l2</th>\n",
       "      <th>epoch</th>\n",
       "      <th>mrr</th>\n",
       "      <th>prec_at_1</th>\n",
       "      <th>prec_at_5</th>\n",
       "      <th>prec_at_10</th>\n",
       "    </tr>\n",
       "  </thead>\n",
       "  <tbody>\n",
       "    <tr>\n",
       "      <th>971</th>\n",
       "      <td>83</td>\n",
       "      <td>0.003</td>\n",
       "      <td>0.0</td>\n",
       "      <td>11</td>\n",
       "      <td>0.028168</td>\n",
       "      <td>0.098361</td>\n",
       "      <td>0.099016</td>\n",
       "      <td>0.090656</td>\n",
       "    </tr>\n",
       "    <tr>\n",
       "      <th>972</th>\n",
       "      <td>83</td>\n",
       "      <td>0.003</td>\n",
       "      <td>0.0</td>\n",
       "      <td>12</td>\n",
       "      <td>0.028505</td>\n",
       "      <td>0.111475</td>\n",
       "      <td>0.101311</td>\n",
       "      <td>0.090328</td>\n",
       "    </tr>\n",
       "    <tr>\n",
       "      <th>973</th>\n",
       "      <td>83</td>\n",
       "      <td>0.003</td>\n",
       "      <td>0.0</td>\n",
       "      <td>13</td>\n",
       "      <td>0.028098</td>\n",
       "      <td>0.109836</td>\n",
       "      <td>0.101967</td>\n",
       "      <td>0.090328</td>\n",
       "    </tr>\n",
       "    <tr>\n",
       "      <th>19</th>\n",
       "      <td>42</td>\n",
       "      <td>0.003</td>\n",
       "      <td>0.0</td>\n",
       "      <td>19</td>\n",
       "      <td>0.029802</td>\n",
       "      <td>0.100000</td>\n",
       "      <td>0.102623</td>\n",
       "      <td>0.090000</td>\n",
       "    </tr>\n",
       "    <tr>\n",
       "      <th>18</th>\n",
       "      <td>42</td>\n",
       "      <td>0.003</td>\n",
       "      <td>0.0</td>\n",
       "      <td>18</td>\n",
       "      <td>0.027885</td>\n",
       "      <td>0.091803</td>\n",
       "      <td>0.087213</td>\n",
       "      <td>0.089508</td>\n",
       "    </tr>\n",
       "    <tr>\n",
       "      <th>251</th>\n",
       "      <td>147</td>\n",
       "      <td>0.003</td>\n",
       "      <td>0.0</td>\n",
       "      <td>11</td>\n",
       "      <td>0.030227</td>\n",
       "      <td>0.103279</td>\n",
       "      <td>0.099672</td>\n",
       "      <td>0.089180</td>\n",
       "    </tr>\n",
       "    <tr>\n",
       "      <th>13</th>\n",
       "      <td>42</td>\n",
       "      <td>0.003</td>\n",
       "      <td>0.0</td>\n",
       "      <td>13</td>\n",
       "      <td>0.027986</td>\n",
       "      <td>0.100000</td>\n",
       "      <td>0.095410</td>\n",
       "      <td>0.089016</td>\n",
       "    </tr>\n",
       "    <tr>\n",
       "      <th>11</th>\n",
       "      <td>42</td>\n",
       "      <td>0.003</td>\n",
       "      <td>0.0</td>\n",
       "      <td>11</td>\n",
       "      <td>0.028916</td>\n",
       "      <td>0.098361</td>\n",
       "      <td>0.096721</td>\n",
       "      <td>0.089016</td>\n",
       "    </tr>\n",
       "    <tr>\n",
       "      <th>970</th>\n",
       "      <td>83</td>\n",
       "      <td>0.003</td>\n",
       "      <td>0.0</td>\n",
       "      <td>10</td>\n",
       "      <td>0.028698</td>\n",
       "      <td>0.106557</td>\n",
       "      <td>0.095410</td>\n",
       "      <td>0.089016</td>\n",
       "    </tr>\n",
       "    <tr>\n",
       "      <th>8</th>\n",
       "      <td>42</td>\n",
       "      <td>0.003</td>\n",
       "      <td>0.0</td>\n",
       "      <td>8</td>\n",
       "      <td>0.027637</td>\n",
       "      <td>0.093443</td>\n",
       "      <td>0.096721</td>\n",
       "      <td>0.088689</td>\n",
       "    </tr>\n",
       "  </tbody>\n",
       "</table>\n",
       "</div>"
      ],
      "text/plain": [
       "     torch_init_seed  learning_rate   l2  epoch       mrr  prec_at_1  \\\n",
       "971               83          0.003  0.0     11  0.028168   0.098361   \n",
       "972               83          0.003  0.0     12  0.028505   0.111475   \n",
       "973               83          0.003  0.0     13  0.028098   0.109836   \n",
       "19                42          0.003  0.0     19  0.029802   0.100000   \n",
       "18                42          0.003  0.0     18  0.027885   0.091803   \n",
       "251              147          0.003  0.0     11  0.030227   0.103279   \n",
       "13                42          0.003  0.0     13  0.027986   0.100000   \n",
       "11                42          0.003  0.0     11  0.028916   0.098361   \n",
       "970               83          0.003  0.0     10  0.028698   0.106557   \n",
       "8                 42          0.003  0.0      8  0.027637   0.093443   \n",
       "\n",
       "     prec_at_5  prec_at_10  \n",
       "971   0.099016    0.090656  \n",
       "972   0.101311    0.090328  \n",
       "973   0.101967    0.090328  \n",
       "19    0.102623    0.090000  \n",
       "18    0.087213    0.089508  \n",
       "251   0.099672    0.089180  \n",
       "13    0.095410    0.089016  \n",
       "11    0.096721    0.089016  \n",
       "970   0.095410    0.089016  \n",
       "8     0.096721    0.088689  "
      ]
     },
     "execution_count": 54,
     "metadata": {},
     "output_type": "execute_result"
    }
   ],
   "source": [
    "results_df.sort_values('prec_at_10', ascending=False).head(10)"
   ]
  },
  {
   "cell_type": "code",
   "execution_count": 55,
   "metadata": {},
   "outputs": [
    {
     "data": {
      "text/html": [
       "<div>\n",
       "<style scoped>\n",
       "    .dataframe tbody tr th:only-of-type {\n",
       "        vertical-align: middle;\n",
       "    }\n",
       "\n",
       "    .dataframe tbody tr th {\n",
       "        vertical-align: top;\n",
       "    }\n",
       "\n",
       "    .dataframe thead th {\n",
       "        text-align: right;\n",
       "    }\n",
       "</style>\n",
       "<table border=\"1\" class=\"dataframe\">\n",
       "  <thead>\n",
       "    <tr style=\"text-align: right;\">\n",
       "      <th></th>\n",
       "      <th>torch_init_seed</th>\n",
       "      <th>learning_rate</th>\n",
       "      <th>l2</th>\n",
       "      <th>epoch</th>\n",
       "      <th>mrr</th>\n",
       "      <th>prec_at_1</th>\n",
       "      <th>prec_at_5</th>\n",
       "      <th>prec_at_10</th>\n",
       "    </tr>\n",
       "  </thead>\n",
       "  <tbody>\n",
       "    <tr>\n",
       "      <th>489</th>\n",
       "      <td>17</td>\n",
       "      <td>0.003</td>\n",
       "      <td>0.0</td>\n",
       "      <td>9</td>\n",
       "      <td>0.031317</td>\n",
       "      <td>0.116393</td>\n",
       "      <td>0.096721</td>\n",
       "      <td>0.083279</td>\n",
       "    </tr>\n",
       "    <tr>\n",
       "      <th>969</th>\n",
       "      <td>83</td>\n",
       "      <td>0.003</td>\n",
       "      <td>0.0</td>\n",
       "      <td>9</td>\n",
       "      <td>0.030325</td>\n",
       "      <td>0.108197</td>\n",
       "      <td>0.098689</td>\n",
       "      <td>0.087377</td>\n",
       "    </tr>\n",
       "    <tr>\n",
       "      <th>251</th>\n",
       "      <td>147</td>\n",
       "      <td>0.003</td>\n",
       "      <td>0.0</td>\n",
       "      <td>11</td>\n",
       "      <td>0.030227</td>\n",
       "      <td>0.103279</td>\n",
       "      <td>0.099672</td>\n",
       "      <td>0.089180</td>\n",
       "    </tr>\n",
       "    <tr>\n",
       "      <th>247</th>\n",
       "      <td>147</td>\n",
       "      <td>0.003</td>\n",
       "      <td>0.0</td>\n",
       "      <td>7</td>\n",
       "      <td>0.030030</td>\n",
       "      <td>0.121311</td>\n",
       "      <td>0.094098</td>\n",
       "      <td>0.082951</td>\n",
       "    </tr>\n",
       "    <tr>\n",
       "      <th>488</th>\n",
       "      <td>17</td>\n",
       "      <td>0.003</td>\n",
       "      <td>0.0</td>\n",
       "      <td>8</td>\n",
       "      <td>0.030005</td>\n",
       "      <td>0.111475</td>\n",
       "      <td>0.096066</td>\n",
       "      <td>0.084918</td>\n",
       "    </tr>\n",
       "    <tr>\n",
       "      <th>9</th>\n",
       "      <td>42</td>\n",
       "      <td>0.003</td>\n",
       "      <td>0.0</td>\n",
       "      <td>9</td>\n",
       "      <td>0.029977</td>\n",
       "      <td>0.106557</td>\n",
       "      <td>0.094098</td>\n",
       "      <td>0.087705</td>\n",
       "    </tr>\n",
       "    <tr>\n",
       "      <th>249</th>\n",
       "      <td>147</td>\n",
       "      <td>0.003</td>\n",
       "      <td>0.0</td>\n",
       "      <td>9</td>\n",
       "      <td>0.029884</td>\n",
       "      <td>0.106557</td>\n",
       "      <td>0.092459</td>\n",
       "      <td>0.085246</td>\n",
       "    </tr>\n",
       "    <tr>\n",
       "      <th>19</th>\n",
       "      <td>42</td>\n",
       "      <td>0.003</td>\n",
       "      <td>0.0</td>\n",
       "      <td>19</td>\n",
       "      <td>0.029802</td>\n",
       "      <td>0.100000</td>\n",
       "      <td>0.102623</td>\n",
       "      <td>0.090000</td>\n",
       "    </tr>\n",
       "    <tr>\n",
       "      <th>250</th>\n",
       "      <td>147</td>\n",
       "      <td>0.003</td>\n",
       "      <td>0.0</td>\n",
       "      <td>10</td>\n",
       "      <td>0.029474</td>\n",
       "      <td>0.095082</td>\n",
       "      <td>0.094754</td>\n",
       "      <td>0.085082</td>\n",
       "    </tr>\n",
       "    <tr>\n",
       "      <th>729</th>\n",
       "      <td>28</td>\n",
       "      <td>0.003</td>\n",
       "      <td>0.0</td>\n",
       "      <td>9</td>\n",
       "      <td>0.029015</td>\n",
       "      <td>0.103279</td>\n",
       "      <td>0.094754</td>\n",
       "      <td>0.082295</td>\n",
       "    </tr>\n",
       "  </tbody>\n",
       "</table>\n",
       "</div>"
      ],
      "text/plain": [
       "     torch_init_seed  learning_rate   l2  epoch       mrr  prec_at_1  \\\n",
       "489               17          0.003  0.0      9  0.031317   0.116393   \n",
       "969               83          0.003  0.0      9  0.030325   0.108197   \n",
       "251              147          0.003  0.0     11  0.030227   0.103279   \n",
       "247              147          0.003  0.0      7  0.030030   0.121311   \n",
       "488               17          0.003  0.0      8  0.030005   0.111475   \n",
       "9                 42          0.003  0.0      9  0.029977   0.106557   \n",
       "249              147          0.003  0.0      9  0.029884   0.106557   \n",
       "19                42          0.003  0.0     19  0.029802   0.100000   \n",
       "250              147          0.003  0.0     10  0.029474   0.095082   \n",
       "729               28          0.003  0.0      9  0.029015   0.103279   \n",
       "\n",
       "     prec_at_5  prec_at_10  \n",
       "489   0.096721    0.083279  \n",
       "969   0.098689    0.087377  \n",
       "251   0.099672    0.089180  \n",
       "247   0.094098    0.082951  \n",
       "488   0.096066    0.084918  \n",
       "9     0.094098    0.087705  \n",
       "249   0.092459    0.085246  \n",
       "19    0.102623    0.090000  \n",
       "250   0.094754    0.085082  \n",
       "729   0.094754    0.082295  "
      ]
     },
     "execution_count": 55,
     "metadata": {},
     "output_type": "execute_result"
    }
   ],
   "source": [
    "results_df.sort_values('mrr', ascending=False).head(10)"
   ]
  },
  {
   "cell_type": "code",
   "execution_count": 56,
   "metadata": {},
   "outputs": [
    {
     "data": {
      "text/html": [
       "<div>\n",
       "<style scoped>\n",
       "    .dataframe tbody tr th:only-of-type {\n",
       "        vertical-align: middle;\n",
       "    }\n",
       "\n",
       "    .dataframe tbody tr th {\n",
       "        vertical-align: top;\n",
       "    }\n",
       "\n",
       "    .dataframe thead th {\n",
       "        text-align: right;\n",
       "    }\n",
       "</style>\n",
       "<table border=\"1\" class=\"dataframe\">\n",
       "  <thead>\n",
       "    <tr style=\"text-align: right;\">\n",
       "      <th></th>\n",
       "      <th>mrr</th>\n",
       "      <th>prec_at_1</th>\n",
       "      <th>prec_at_5</th>\n",
       "      <th>prec_at_10</th>\n",
       "    </tr>\n",
       "  </thead>\n",
       "  <tbody>\n",
       "    <tr>\n",
       "      <th>mrr</th>\n",
       "      <td>1.000000</td>\n",
       "      <td>0.633337</td>\n",
       "      <td>0.889195</td>\n",
       "      <td>0.926733</td>\n",
       "    </tr>\n",
       "    <tr>\n",
       "      <th>prec_at_1</th>\n",
       "      <td>0.633337</td>\n",
       "      <td>1.000000</td>\n",
       "      <td>0.566549</td>\n",
       "      <td>0.537118</td>\n",
       "    </tr>\n",
       "    <tr>\n",
       "      <th>prec_at_5</th>\n",
       "      <td>0.889195</td>\n",
       "      <td>0.566549</td>\n",
       "      <td>1.000000</td>\n",
       "      <td>0.935955</td>\n",
       "    </tr>\n",
       "    <tr>\n",
       "      <th>prec_at_10</th>\n",
       "      <td>0.926733</td>\n",
       "      <td>0.537118</td>\n",
       "      <td>0.935955</td>\n",
       "      <td>1.000000</td>\n",
       "    </tr>\n",
       "  </tbody>\n",
       "</table>\n",
       "</div>"
      ],
      "text/plain": [
       "                 mrr  prec_at_1  prec_at_5  prec_at_10\n",
       "mrr         1.000000   0.633337   0.889195    0.926733\n",
       "prec_at_1   0.633337   1.000000   0.566549    0.537118\n",
       "prec_at_5   0.889195   0.566549   1.000000    0.935955\n",
       "prec_at_10  0.926733   0.537118   0.935955    1.000000"
      ]
     },
     "execution_count": 56,
     "metadata": {},
     "output_type": "execute_result"
    }
   ],
   "source": [
    "results_df[['mrr', 'prec_at_1', 'prec_at_5', 'prec_at_10']].corr()"
   ]
  },
  {
   "cell_type": "code",
   "execution_count": 57,
   "metadata": {},
   "outputs": [
    {
     "data": {
      "image/png": "[encoded data removed]",
      "text/plain": [
       "<Figure size 576x576 with 1 Axes>"
      ]
     },
     "metadata": {
      "needs_background": "light"
     },
     "output_type": "display_data"
    }
   ],
   "source": [
    "prec_type = 'prec_at_1'\n",
    "plt.figure(figsize=(8,8))\n",
    "plt.scatter(results_df['mrr'], results_df[prec_type], marker='.')\n",
    "plt.xlabel('mrr')\n",
    "plt.ylabel(prec_type)\n",
    "plt.grid(True)"
   ]
  },
  {
   "cell_type": "code",
   "execution_count": 58,
   "metadata": {},
   "outputs": [
    {
     "data": {
      "image/png": "[encoded data removed]",
      "text/plain": [
       "<Figure size 576x576 with 1 Axes>"
      ]
     },
     "metadata": {
      "needs_background": "light"
     },
     "output_type": "display_data"
    }
   ],
   "source": [
    "prec_type = 'prec_at_5'\n",
    "plt.figure(figsize=(8,8))\n",
    "plt.scatter(results_df['mrr'], results_df[prec_type], marker='.')\n",
    "plt.xlabel('mrr')\n",
    "plt.ylabel(prec_type)\n",
    "plt.grid(True)"
   ]
  },
  {
   "cell_type": "code",
   "execution_count": 59,
   "metadata": {},
   "outputs": [
    {
     "data": {
      "image/png": "[encoded data removed]",
      "text/plain": [
       "<Figure size 576x576 with 1 Axes>"
      ]
     },
     "metadata": {
      "needs_background": "light"
     },
     "output_type": "display_data"
    }
   ],
   "source": [
    "prec_type = 'prec_at_10'\n",
    "plt.figure(figsize=(8,8))\n",
    "plt.scatter(results_df['mrr'], results_df[prec_type], marker='.')\n",
    "plt.xlabel('mrr')\n",
    "plt.ylabel(prec_type)\n",
    "plt.grid(True)"
   ]
  },
  {
   "cell_type": "markdown",
   "metadata": {},
   "source": [
    "**Best BilinearNet Matrix Factorization Configuration (optimizing for MRR)**"
   ]
  },
  {
   "cell_type": "code",
   "execution_count": 60,
   "metadata": {},
   "outputs": [
    {
     "data": {
      "text/plain": [
       "torch_init_seed    17.000000\n",
       "learning_rate       0.003000\n",
       "l2                  0.000000\n",
       "epoch               9.000000\n",
       "mrr                 0.031317\n",
       "prec_at_1           0.116393\n",
       "prec_at_5           0.096721\n",
       "prec_at_10          0.083279\n",
       "Name: 489, dtype: float64"
      ]
     },
     "execution_count": 60,
     "metadata": {},
     "output_type": "execute_result"
    }
   ],
   "source": [
    "results_df.sort_values('mrr', ascending=False).iloc[0]"
   ]
  }
 ],
 "metadata": {
  "kernelspec": {
   "display_name": "Python 3",
   "language": "python",
   "name": "python3"
  },
  "language_info": {
   "codemirror_mode": {
    "name": "ipython",
    "version": 3
   },
   "file_extension": ".py",
   "mimetype": "text/x-python",
   "name": "python",
   "nbconvert_exporter": "python",
   "pygments_lexer": "ipython3",
   "version": "3.6.7"
  }
 },
 "nbformat": 4,
 "nbformat_minor": 2
}
