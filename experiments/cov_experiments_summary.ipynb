{
 "cells": [
  {
   "cell_type": "markdown",
   "metadata": {},
   "source": [
    "# Visualization and Summary for Covariance Experiments"
   ]
  },
  {
   "cell_type": "code",
   "execution_count": 2,
   "metadata": {},
   "outputs": [],
   "source": [
    "import matplotlib.pyplot as plt\n",
    "import numpy as np\n",
    "import pandas as pd\n",
    "\n",
    "np.set_printoptions(suppress=True)"
   ]
  },
  {
   "cell_type": "code",
   "execution_count": 3,
   "metadata": {},
   "outputs": [],
   "source": [
    "res = dict.fromkeys(['implicit', 'explicit'])"
   ]
  },
  {
   "cell_type": "markdown",
   "metadata": {},
   "source": [
    "## Implicit Data"
   ]
  },
  {
   "cell_type": "code",
   "execution_count": 4,
   "metadata": {},
   "outputs": [],
   "source": [
    "implicit_res = pd.read_csv('results/covariance/20180414_implicit_covariance.csv')"
   ]
  },
  {
   "cell_type": "code",
   "execution_count": 5,
   "metadata": {},
   "outputs": [
    {
     "data": {
      "text/html": [
       "<div>\n",
       "<style scoped>\n",
       "    .dataframe tbody tr th:only-of-type {\n",
       "        vertical-align: middle;\n",
       "    }\n",
       "\n",
       "    .dataframe tbody tr th {\n",
       "        vertical-align: top;\n",
       "    }\n",
       "\n",
       "    .dataframe thead th {\n",
       "        text-align: right;\n",
       "    }\n",
       "</style>\n",
       "<table border=\"1\" class=\"dataframe\">\n",
       "  <thead>\n",
       "    <tr style=\"text-align: right;\">\n",
       "      <th></th>\n",
       "      <th>entity_type</th>\n",
       "      <th>correlation</th>\n",
       "      <th>entity_id</th>\n",
       "      <th>interaction_count</th>\n",
       "    </tr>\n",
       "  </thead>\n",
       "  <tbody>\n",
       "    <tr>\n",
       "      <th>0</th>\n",
       "      <td>user</td>\n",
       "      <td>0.753041</td>\n",
       "      <td>0</td>\n",
       "      <td>124</td>\n",
       "    </tr>\n",
       "    <tr>\n",
       "      <th>1</th>\n",
       "      <td>user</td>\n",
       "      <td>0.778048</td>\n",
       "      <td>1</td>\n",
       "      <td>19</td>\n",
       "    </tr>\n",
       "    <tr>\n",
       "      <th>2</th>\n",
       "      <td>user</td>\n",
       "      <td>0.871832</td>\n",
       "      <td>2</td>\n",
       "      <td>18</td>\n",
       "    </tr>\n",
       "    <tr>\n",
       "      <th>3</th>\n",
       "      <td>user</td>\n",
       "      <td>0.838007</td>\n",
       "      <td>3</td>\n",
       "      <td>128</td>\n",
       "    </tr>\n",
       "    <tr>\n",
       "      <th>4</th>\n",
       "      <td>user</td>\n",
       "      <td>0.741297</td>\n",
       "      <td>4</td>\n",
       "      <td>23</td>\n",
       "    </tr>\n",
       "  </tbody>\n",
       "</table>\n",
       "</div>"
      ],
      "text/plain": [
       "  entity_type  correlation  entity_id  interaction_count\n",
       "0        user     0.753041          0                124\n",
       "1        user     0.778048          1                 19\n",
       "2        user     0.871832          2                 18\n",
       "3        user     0.838007          3                128\n",
       "4        user     0.741297          4                 23"
      ]
     },
     "execution_count": 5,
     "metadata": {},
     "output_type": "execute_result"
    }
   ],
   "source": [
    "implicit_res.head()"
   ]
  },
  {
   "cell_type": "code",
   "execution_count": 6,
   "metadata": {},
   "outputs": [],
   "source": [
    "res['implicit'] = dict()"
   ]
  },
  {
   "cell_type": "markdown",
   "metadata": {},
   "source": [
    "### User View"
   ]
  },
  {
   "cell_type": "code",
   "execution_count": 7,
   "metadata": {},
   "outputs": [
    {
     "data": {
      "text/plain": [
       "count    610.000000\n",
       "mean       0.824566\n",
       "std        0.101056\n",
       "min        0.530433\n",
       "25%        0.755203\n",
       "50%        0.842498\n",
       "75%        0.906073\n",
       "max        0.980597\n",
       "Name: correlation, dtype: float64"
      ]
     },
     "execution_count": 7,
     "metadata": {},
     "output_type": "execute_result"
    }
   ],
   "source": [
    "res['implicit']['user'] = implicit_res[implicit_res['entity_type'] == 'user']\n",
    "res['implicit']['user']['correlation'].describe()"
   ]
  },
  {
   "cell_type": "code",
   "execution_count": 8,
   "metadata": {},
   "outputs": [
    {
     "data": {
      "text/plain": [
       "array([610.    ,   0.8246,   0.1011,   0.5304,   0.7552,   0.8425,\n",
       "         0.9061,   0.9806])"
      ]
     },
     "execution_count": 8,
     "metadata": {},
     "output_type": "execute_result"
    }
   ],
   "source": [
    "np.round(res['implicit']['user']['correlation'].describe().values,4)"
   ]
  },
  {
   "cell_type": "code",
   "execution_count": 9,
   "metadata": {},
   "outputs": [
    {
     "data": {
      "image/png": "[encoded data removed]",
      "text/plain": [
       "<Figure size 576x432 with 1 Axes>"
      ]
     },
     "metadata": {
      "needs_background": "light"
     },
     "output_type": "display_data"
    }
   ],
   "source": [
    "plt.figure(figsize=(8,6))\n",
    "# plt.title(\"Ignore Sparse Zeros: {},\\nUse Zero Mean: {},\\nCorrelation Type: {}\".format(\n",
    "#     key[0], key[1], key[2]))\n",
    "res['implicit']['user']['correlation'].hist(bins='auto', color='#003C7E', alpha=1.0, density=False)\n",
    "plt.xlabel(r'$\\rho_{user}$', fontdict={'fontsize': 18})\n",
    "plt.xticks(fontsize=14)\n",
    "plt.yticks(fontsize=14)\n",
    "# plt.text(.41, 5,\"$n={}$\".format(results[key].notnull().sum()), fontsize=14)\n",
    "plt.title(\"Implicit User View\\n(n = {})\".format(res['implicit']['user']['correlation'].notnull().sum()), fontsize=14)\n",
    "plt.show()"
   ]
  },
  {
   "cell_type": "markdown",
   "metadata": {},
   "source": [
    "### Item View"
   ]
  },
  {
   "cell_type": "code",
   "execution_count": 10,
   "metadata": {},
   "outputs": [
    {
     "data": {
      "text/plain": [
       "count    4275.000000\n",
       "mean        0.725650\n",
       "std         0.127505\n",
       "min         0.111977\n",
       "25%         0.650479\n",
       "50%         0.747190\n",
       "75%         0.820685\n",
       "max         0.968090\n",
       "Name: correlation, dtype: float64"
      ]
     },
     "execution_count": 10,
     "metadata": {},
     "output_type": "execute_result"
    }
   ],
   "source": [
    "res['implicit']['item'] = implicit_res[implicit_res['entity_type'] == 'item']\n",
    "res['implicit']['item']['correlation'].describe()"
   ]
  },
  {
   "cell_type": "code",
   "execution_count": 11,
   "metadata": {},
   "outputs": [
    {
     "data": {
      "text/plain": [
       "array([4275.    ,    0.7256,    0.1275,    0.112 ,    0.6505,    0.7472,\n",
       "          0.8207,    0.9681])"
      ]
     },
     "execution_count": 11,
     "metadata": {},
     "output_type": "execute_result"
    }
   ],
   "source": [
    "np.round(res['implicit']['item']['correlation'].describe().values,4)"
   ]
  },
  {
   "cell_type": "code",
   "execution_count": 12,
   "metadata": {},
   "outputs": [
    {
     "data": {
      "image/png": "[encoded data removed]",
      "text/plain": [
       "<Figure size 576x432 with 1 Axes>"
      ]
     },
     "metadata": {
      "needs_background": "light"
     },
     "output_type": "display_data"
    }
   ],
   "source": [
    "plt.figure(figsize=(8,6))\n",
    "# plt.title(\"Ignore Sparse Zeros: {},\\nUse Zero Mean: {},\\nCorrelation Type: {}\".format(\n",
    "#     key[0], key[1], key[2]))\n",
    "res['implicit']['item']['correlation'].hist(bins='auto', color='#003C7E', alpha=1.0)\n",
    "plt.xlabel(r'$\\rho_{item}$', fontdict={'fontsize': 18})\n",
    "plt.xticks(fontsize=14)\n",
    "plt.yticks(fontsize=14)\n",
    "# plt.text(.24, 10,\"$n={}$\".format(results[key].notnull().sum()), fontsize=14)\n",
    "plt.title(\"Implicit Item View\\n(n = {})\".format(res['implicit']['item']['correlation'].notnull().sum()), fontsize=14)\n",
    "plt.show()"
   ]
  },
  {
   "cell_type": "markdown",
   "metadata": {},
   "source": [
    "## Explicit Data"
   ]
  },
  {
   "cell_type": "code",
   "execution_count": 13,
   "metadata": {},
   "outputs": [],
   "source": [
    "explicit_res = pd.read_csv('results/covariance/20180414_explicit_covariance.csv')"
   ]
  },
  {
   "cell_type": "code",
   "execution_count": 14,
   "metadata": {},
   "outputs": [
    {
     "data": {
      "text/html": [
       "<div>\n",
       "<style scoped>\n",
       "    .dataframe tbody tr th:only-of-type {\n",
       "        vertical-align: middle;\n",
       "    }\n",
       "\n",
       "    .dataframe tbody tr th {\n",
       "        vertical-align: top;\n",
       "    }\n",
       "\n",
       "    .dataframe thead th {\n",
       "        text-align: right;\n",
       "    }\n",
       "</style>\n",
       "<table border=\"1\" class=\"dataframe\">\n",
       "  <thead>\n",
       "    <tr style=\"text-align: right;\">\n",
       "      <th></th>\n",
       "      <th>entity_type</th>\n",
       "      <th>correlation</th>\n",
       "      <th>entity_id</th>\n",
       "      <th>interaction_count</th>\n",
       "    </tr>\n",
       "  </thead>\n",
       "  <tbody>\n",
       "    <tr>\n",
       "      <th>0</th>\n",
       "      <td>user</td>\n",
       "      <td>0.893267</td>\n",
       "      <td>0</td>\n",
       "      <td>232</td>\n",
       "    </tr>\n",
       "    <tr>\n",
       "      <th>1</th>\n",
       "      <td>user</td>\n",
       "      <td>0.944974</td>\n",
       "      <td>1</td>\n",
       "      <td>29</td>\n",
       "    </tr>\n",
       "    <tr>\n",
       "      <th>2</th>\n",
       "      <td>user</td>\n",
       "      <td>0.960634</td>\n",
       "      <td>2</td>\n",
       "      <td>39</td>\n",
       "    </tr>\n",
       "    <tr>\n",
       "      <th>3</th>\n",
       "      <td>user</td>\n",
       "      <td>0.926001</td>\n",
       "      <td>3</td>\n",
       "      <td>216</td>\n",
       "    </tr>\n",
       "    <tr>\n",
       "      <th>4</th>\n",
       "      <td>user</td>\n",
       "      <td>0.901033</td>\n",
       "      <td>4</td>\n",
       "      <td>44</td>\n",
       "    </tr>\n",
       "  </tbody>\n",
       "</table>\n",
       "</div>"
      ],
      "text/plain": [
       "  entity_type  correlation  entity_id  interaction_count\n",
       "0        user     0.893267          0                232\n",
       "1        user     0.944974          1                 29\n",
       "2        user     0.960634          2                 39\n",
       "3        user     0.926001          3                216\n",
       "4        user     0.901033          4                 44"
      ]
     },
     "execution_count": 14,
     "metadata": {},
     "output_type": "execute_result"
    }
   ],
   "source": [
    "explicit_res.head()"
   ]
  },
  {
   "cell_type": "code",
   "execution_count": 15,
   "metadata": {},
   "outputs": [],
   "source": [
    "res['explicit'] = dict()"
   ]
  },
  {
   "cell_type": "markdown",
   "metadata": {},
   "source": [
    "### User View"
   ]
  },
  {
   "cell_type": "code",
   "execution_count": 16,
   "metadata": {},
   "outputs": [
    {
     "data": {
      "text/plain": [
       "count    610.000000\n",
       "mean       0.898698\n",
       "std        0.044641\n",
       "min        0.658938\n",
       "25%        0.868344\n",
       "50%        0.903415\n",
       "75%        0.931833\n",
       "max        0.986668\n",
       "Name: correlation, dtype: float64"
      ]
     },
     "execution_count": 16,
     "metadata": {},
     "output_type": "execute_result"
    }
   ],
   "source": [
    "res['explicit']['user'] = explicit_res[explicit_res['entity_type'] == 'user']\n",
    "res['explicit']['user']['correlation'].describe()"
   ]
  },
  {
   "cell_type": "code",
   "execution_count": 17,
   "metadata": {},
   "outputs": [
    {
     "data": {
      "text/plain": [
       "array([610.    ,   0.8987,   0.0446,   0.6589,   0.8683,   0.9034,\n",
       "         0.9318,   0.9867])"
      ]
     },
     "execution_count": 17,
     "metadata": {},
     "output_type": "execute_result"
    }
   ],
   "source": [
    "np.round(res['explicit']['user']['correlation'].describe().values,4)"
   ]
  },
  {
   "cell_type": "code",
   "execution_count": 18,
   "metadata": {},
   "outputs": [
    {
     "data": {
      "image/png": "[encoded data removed]",
      "text/plain": [
       "<Figure size 576x432 with 1 Axes>"
      ]
     },
     "metadata": {
      "needs_background": "light"
     },
     "output_type": "display_data"
    }
   ],
   "source": [
    "plt.figure(figsize=(8,6))\n",
    "# plt.title(\"Ignore Sparse Zeros: {},\\nUse Zero Mean: {},\\nCorrelation Type: {}\".format(\n",
    "#     key[0], key[1], key[2]))\n",
    "res['explicit']['user']['correlation'].hist(bins='auto', color='#003C7E', alpha=1.0, density=False)\n",
    "plt.xlabel(r'$\\rho_{user}$', fontdict={'fontsize': 18})\n",
    "plt.xticks(fontsize=14)\n",
    "plt.yticks(fontsize=14)\n",
    "# plt.text(.41, 5,\"$n={}$\".format(results[key].notnull().sum()), fontsize=14)\n",
    "plt.title(\"Explicit User View\\n(n = {})\".format(res['explicit']['user']['correlation'].notnull().sum()), fontsize=14)\n",
    "plt.show()"
   ]
  },
  {
   "cell_type": "markdown",
   "metadata": {},
   "source": [
    "### Item View"
   ]
  },
  {
   "cell_type": "code",
   "execution_count": 19,
   "metadata": {},
   "outputs": [
    {
     "data": {
      "text/plain": [
       "count    6278.000000\n",
       "mean        0.815630\n",
       "std         0.098006\n",
       "min         0.153431\n",
       "25%         0.775206\n",
       "50%         0.843336\n",
       "75%         0.882703\n",
       "max         0.970971\n",
       "Name: correlation, dtype: float64"
      ]
     },
     "execution_count": 19,
     "metadata": {},
     "output_type": "execute_result"
    }
   ],
   "source": [
    "res['explicit']['item'] = explicit_res[explicit_res['entity_type'] == 'item']\n",
    "res['explicit']['item']['correlation'].describe()"
   ]
  },
  {
   "cell_type": "code",
   "execution_count": 20,
   "metadata": {},
   "outputs": [
    {
     "data": {
      "text/plain": [
       "array([6278.    ,    0.8156,    0.098 ,    0.1534,    0.7752,    0.8433,\n",
       "          0.8827,    0.971 ])"
      ]
     },
     "execution_count": 20,
     "metadata": {},
     "output_type": "execute_result"
    }
   ],
   "source": [
    "np.round(res['explicit']['item']['correlation'].describe().values,4)"
   ]
  },
  {
   "cell_type": "code",
   "execution_count": 21,
   "metadata": {
    "scrolled": false
   },
   "outputs": [
    {
     "data": {
      "image/png": "[encoded data removed]",
      "text/plain": [
       "<Figure size 576x432 with 1 Axes>"
      ]
     },
     "metadata": {
      "needs_background": "light"
     },
     "output_type": "display_data"
    }
   ],
   "source": [
    "plt.figure(figsize=(8,6))\n",
    "# plt.title(\"Ignore Sparse Zeros: {},\\nUse Zero Mean: {},\\nCorrelation Type: {}\".format(\n",
    "#     key[0], key[1], key[2]))\n",
    "res['explicit']['item']['correlation'].hist(bins='auto', color='#003C7E', alpha=1.0)\n",
    "plt.xlabel(r'$\\rho_{item}$', fontdict={'fontsize': 18})\n",
    "plt.xticks(fontsize=14)\n",
    "plt.yticks(fontsize=14)\n",
    "# plt.text(.24, 10,\"$n={}$\".format(results[key].notnull().sum()), fontsize=14)\n",
    "plt.title(\"Explicit Item View\\n(n = {})\".format(res['explicit']['item']['correlation'].notnull().sum()), fontsize=14)\n",
    "plt.show()"
   ]
  },
  {
   "cell_type": "markdown",
   "metadata": {},
   "source": [
    "## Joint View"
   ]
  },
  {
   "cell_type": "markdown",
   "metadata": {},
   "source": [
    "### User"
   ]
  },
  {
   "cell_type": "code",
   "execution_count": 23,
   "metadata": {},
   "outputs": [
    {
     "data": {
      "image/png": "[encoded data removed]",
      "text/plain": [
       "<Figure size 576x432 with 1 Axes>"
      ]
     },
     "metadata": {
      "needs_background": "light"
     },
     "output_type": "display_data"
    }
   ],
   "source": [
    "plt.figure(figsize=(8,6))\n",
    "# plt.title(\"Ignore Sparse Zeros: {},\\nUse Zero Mean: {},\\nCorrelation Type: {}\".format(\n",
    "#     key[0], key[1], key[2]))\n",
    "res['implicit']['user']['correlation'].hist(bins='auto', color='#003C7E', alpha=0.5)\n",
    "res['explicit']['user']['correlation'].hist(bins='auto', color='#E00051', alpha=0.5)\n",
    "plt.xlabel(r'$\\rho_{user}$', fontdict={'fontsize': 18})\n",
    "plt.xticks(fontsize=14)\n",
    "plt.yticks(fontsize=14)\n",
    "# plt.text(.24, 10,\"$n={}$\".format(results[key].notnull().sum()), fontsize=14)\n",
    "# plt.title(\"User View\", fontsize=14)\n",
    "plt.legend(['implicit', 'explicit'], prop={'size': 14})\n",
    "plt.show()"
   ]
  },
  {
   "cell_type": "markdown",
   "metadata": {},
   "source": [
    "### Item"
   ]
  },
  {
   "cell_type": "code",
   "execution_count": 24,
   "metadata": {},
   "outputs": [
    {
     "data": {
      "image/png": "[encoded data removed]",
      "text/plain": [
       "<Figure size 576x432 with 1 Axes>"
      ]
     },
     "metadata": {
      "needs_background": "light"
     },
     "output_type": "display_data"
    }
   ],
   "source": [
    "plt.figure(figsize=(8,6))\n",
    "# plt.title(\"Ignore Sparse Zeros: {},\\nUse Zero Mean: {},\\nCorrelation Type: {}\".format(\n",
    "#     key[0], key[1], key[2]))\n",
    "res['implicit']['item']['correlation'].hist(bins='auto', color='#003C7E', alpha=0.5)\n",
    "res['explicit']['item']['correlation'].hist(bins='auto', color='#E00051', alpha=0.5)\n",
    "plt.xlabel(r'$\\rho_{item}$', fontdict={'fontsize': 18})\n",
    "plt.xticks(fontsize=14)\n",
    "plt.yticks(fontsize=14)\n",
    "# plt.text(.24, 10,\"$n={}$\".format(results[key].notnull().sum()), fontsize=14)\n",
    "# plt.title(\"Item View\", fontsize=14)\n",
    "plt.legend(['implicit', 'explicit'], prop={'size': 14})\n",
    "plt.show()"
   ]
  }
 ],
 "metadata": {
  "kernelspec": {
   "display_name": "Python 3",
   "language": "python",
   "name": "python3"
  },
  "language_info": {
   "codemirror_mode": {
    "name": "ipython",
    "version": 3
   },
   "file_extension": ".py",
   "mimetype": "text/x-python",
   "name": "python",
   "nbconvert_exporter": "python",
   "pygments_lexer": "ipython3",
   "version": "3.6.7"
  }
 },
 "nbformat": 4,
 "nbformat_minor": 2
}
